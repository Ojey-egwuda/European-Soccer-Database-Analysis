{
 "cells": [
  {
   "cell_type": "markdown",
   "metadata": {},
   "source": [
    "# Project: European Soccer Database Analysis\n",
    "\n",
    "By: Egwuda Ojonugwa Everest\n",
    "\n",
    "## Table of Contents\n",
    "<ul>\n",
    "<li><a href=\"#intro\">Introduction</a></li>\n",
    "<li><a href=\"#wrangling\">Data Wrangling</a></li>\n",
    "<li><a href=\"#eda\">Exploratory Data Analysis</a></li>\n",
    "<li><a href=\"#conclusions\">Conclusions</a></li>\n",
    "<li><a href=\"#limitations\">Limitations</a></li>\n",
    "<li><a href=\"#Reference links\">Reference Links</a></li>\n",
    "</ul>"
   ]
  },
  {
   "cell_type": "markdown",
   "metadata": {},
   "source": [
    "<a id='intro'></a>\n",
    "## Introduction\n",
    "\n",
    "> In this project, We will analyze data of 11 European Professsional leagues from seasons 2008 - 2016.\n",
    "\n",
    "## The Dataset Includes;\n",
    "1. +10,000 Professional players\n",
    "2. +25,000 Matches\n",
    "3. 11 European Countries with their lead championship\n",
    "4. Seasons 2008 - 2016\n",
    "5. Players and Teams' attributes* sourced from EA Sports FIFA video game series, including the weekly updates\n",
    "6. Match events(Season, League, Home Team goals, Away Team goals)for +10,000 Matches\n",
    "\n",
    "\n",
    "## Research Questions for Analysis\n",
    "1. Which teams improved the most over a period of time?\n",
    "2. Which player had the most Penalties?"
   ]
  },
  {
   "cell_type": "code",
   "execution_count": 40,
   "metadata": {},
   "outputs": [],
   "source": [
    "# import necessary modules\n",
    "import pandas as pd\n",
    "import numpy as np\n",
    "import matplotlib.pyplot as plt\n",
    "import seaborn as sns\n",
    "%matplotlib inline\n",
    "sns.set_style('dark')\n",
    "sns.set_palette('Set2')\n",
    "from matplotlib.cbook import boxplot_stats\n",
    "import sqlite3"
   ]
  },
  {
   "cell_type": "markdown",
   "metadata": {},
   "source": [
    "<a id='wrangling'></a>\n",
    "## Data Wrangling\n",
    "\n",
    "\n",
    "\n",
    "\n",
    "### Import the Dataset"
   ]
  },
  {
   "cell_type": "code",
   "execution_count": 41,
   "metadata": {},
   "outputs": [
    {
     "name": "stdout",
     "output_type": "stream",
     "text": [
      "Uploaded\n"
     ]
    }
   ],
   "source": [
    "con = sqlite3.connect('C:/Users/user/Downloads/database.sqlite')\n",
    "cur = con.cursor()\n",
    "\n",
    "print('Uploaded')"
   ]
  },
  {
   "cell_type": "markdown",
   "metadata": {},
   "source": [
    "Inspecting the original database on Kaggle, we learn that the database has Seven data tables and we need to collect columns from each using SQL queries."
   ]
  },
  {
   "cell_type": "code",
   "execution_count": 42,
   "metadata": {},
   "outputs": [
    {
     "name": "stdout",
     "output_type": "stream",
     "text": [
      "country\n",
      "      id     name\n",
      "0      1  Belgium\n",
      "1   1729  England\n",
      "2   4769   France\n",
      "3   7809  Germany\n",
      "4  10257    Italy\n",
      "(11, 2)\n",
      "\n",
      "\n",
      "league\n",
      "      id  country_id                    name\n",
      "0      1           1  Belgium Jupiler League\n",
      "1   1729        1729  England Premier League\n",
      "2   4769        4769          France Ligue 1\n",
      "3   7809        7809   Germany 1. Bundesliga\n",
      "4  10257       10257           Italy Serie A\n",
      "(11, 3)\n",
      "\n",
      "\n",
      "match\n",
      "   id  country_id  league_id     season  stage                 date  \\\n",
      "0   1           1          1  2008/2009      1  2008-08-17 00:00:00   \n",
      "1   2           1          1  2008/2009      1  2008-08-16 00:00:00   \n",
      "2   3           1          1  2008/2009      1  2008-08-16 00:00:00   \n",
      "3   4           1          1  2008/2009      1  2008-08-17 00:00:00   \n",
      "4   5           1          1  2008/2009      1  2008-08-16 00:00:00   \n",
      "\n",
      "   match_api_id  home_team_api_id  away_team_api_id  home_team_goal  ...  \\\n",
      "0        492473              9987              9993               1  ...   \n",
      "1        492474             10000              9994               0  ...   \n",
      "2        492475              9984              8635               0  ...   \n",
      "3        492476              9991              9998               5  ...   \n",
      "4        492477              7947              9985               1  ...   \n",
      "\n",
      "    SJA   VCH   VCD   VCA   GBH   GBD   GBA   BSH   BSD   BSA  \n",
      "0  4.00  1.65  3.40  4.50  1.78  3.25  4.00  1.73  3.40  4.20  \n",
      "1  3.80  2.00  3.25  3.25  1.85  3.25  3.75  1.91  3.25  3.60  \n",
      "2  2.50  2.35  3.25  2.65  2.50  3.20  2.50  2.30  3.20  2.75  \n",
      "3  7.50  1.45  3.75  6.50  1.50  3.75  5.50  1.44  3.75  6.50  \n",
      "4  1.73  4.50  3.40  1.65  4.50  3.50  1.65  4.75  3.30  1.67  \n",
      "\n",
      "[5 rows x 115 columns]\n",
      "(25979, 115)\n",
      "\n",
      "\n",
      "player\n",
      "   id  player_api_id         player_name  player_fifa_api_id  \\\n",
      "0   1         505942  Aaron Appindangoye              218353   \n",
      "1   2         155782     Aaron Cresswell              189615   \n",
      "2   3         162549         Aaron Doran              186170   \n",
      "3   4          30572       Aaron Galindo              140161   \n",
      "4   5          23780        Aaron Hughes               17725   \n",
      "\n",
      "              birthday  height  weight  \n",
      "0  1992-02-29 00:00:00  182.88     187  \n",
      "1  1989-12-15 00:00:00  170.18     146  \n",
      "2  1991-05-13 00:00:00  170.18     163  \n",
      "3  1982-05-08 00:00:00  182.88     198  \n",
      "4  1979-11-08 00:00:00  182.88     154  \n",
      "(11060, 7)\n",
      "\n",
      "\n",
      "player_attributes\n",
      "   id  player_fifa_api_id  player_api_id                 date  overall_rating  \\\n",
      "0   1              218353         505942  2016-02-18 00:00:00            67.0   \n",
      "1   2              218353         505942  2015-11-19 00:00:00            67.0   \n",
      "2   3              218353         505942  2015-09-21 00:00:00            62.0   \n",
      "3   4              218353         505942  2015-03-20 00:00:00            61.0   \n",
      "4   5              218353         505942  2007-02-22 00:00:00            61.0   \n",
      "\n",
      "   potential preferred_foot attacking_work_rate defensive_work_rate  crossing  \\\n",
      "0       71.0          right              medium              medium      49.0   \n",
      "1       71.0          right              medium              medium      49.0   \n",
      "2       66.0          right              medium              medium      49.0   \n",
      "3       65.0          right              medium              medium      48.0   \n",
      "4       65.0          right              medium              medium      48.0   \n",
      "\n",
      "   ...  vision  penalties  marking  standing_tackle  sliding_tackle  \\\n",
      "0  ...    54.0       48.0     65.0             69.0            69.0   \n",
      "1  ...    54.0       48.0     65.0             69.0            69.0   \n",
      "2  ...    54.0       48.0     65.0             66.0            69.0   \n",
      "3  ...    53.0       47.0     62.0             63.0            66.0   \n",
      "4  ...    53.0       47.0     62.0             63.0            66.0   \n",
      "\n",
      "   gk_diving  gk_handling  gk_kicking  gk_positioning  gk_reflexes  \n",
      "0        6.0         11.0        10.0             8.0          8.0  \n",
      "1        6.0         11.0        10.0             8.0          8.0  \n",
      "2        6.0         11.0        10.0             8.0          8.0  \n",
      "3        5.0         10.0         9.0             7.0          7.0  \n",
      "4        5.0         10.0         9.0             7.0          7.0  \n",
      "\n",
      "[5 rows x 42 columns]\n",
      "(183978, 42)\n",
      "\n",
      "\n",
      "team\n",
      "   id  team_api_id  team_fifa_api_id     team_long_name team_short_name\n",
      "0   1         9987             673.0           KRC Genk             GEN\n",
      "1   2         9993             675.0       Beerschot AC             BAC\n",
      "2   3        10000           15005.0   SV Zulte-Waregem             ZUL\n",
      "3   4         9994            2007.0   Sporting Lokeren             LOK\n",
      "4   5         9984            1750.0  KSV Cercle Brugge             CEB\n",
      "(299, 5)\n",
      "\n",
      "\n",
      "team_attributes\n",
      "   id  team_fifa_api_id  team_api_id                 date  buildUpPlaySpeed  \\\n",
      "0   1               434         9930  2010-02-22 00:00:00                60   \n",
      "1   2               434         9930  2014-09-19 00:00:00                52   \n",
      "2   3               434         9930  2015-09-10 00:00:00                47   \n",
      "3   4                77         8485  2010-02-22 00:00:00                70   \n",
      "4   5                77         8485  2011-02-22 00:00:00                47   \n",
      "\n",
      "  buildUpPlaySpeedClass  buildUpPlayDribbling buildUpPlayDribblingClass  \\\n",
      "0              Balanced                   NaN                    Little   \n",
      "1              Balanced                  48.0                    Normal   \n",
      "2              Balanced                  41.0                    Normal   \n",
      "3                  Fast                   NaN                    Little   \n",
      "4              Balanced                   NaN                    Little   \n",
      "\n",
      "   buildUpPlayPassing buildUpPlayPassingClass  ... chanceCreationShooting  \\\n",
      "0                  50                   Mixed  ...                     55   \n",
      "1                  56                   Mixed  ...                     64   \n",
      "2                  54                   Mixed  ...                     64   \n",
      "3                  70                    Long  ...                     70   \n",
      "4                  52                   Mixed  ...                     52   \n",
      "\n",
      "   chanceCreationShootingClass chanceCreationPositioningClass  \\\n",
      "0                       Normal                      Organised   \n",
      "1                       Normal                      Organised   \n",
      "2                       Normal                      Organised   \n",
      "3                         Lots                      Organised   \n",
      "4                       Normal                      Organised   \n",
      "\n",
      "   defencePressure defencePressureClass  defenceAggression  \\\n",
      "0               50               Medium                 55   \n",
      "1               47               Medium                 44   \n",
      "2               47               Medium                 44   \n",
      "3               60               Medium                 70   \n",
      "4               47               Medium                 47   \n",
      "\n",
      "  defenceAggressionClass defenceTeamWidth  defenceTeamWidthClass  \\\n",
      "0                  Press               45                 Normal   \n",
      "1                  Press               54                 Normal   \n",
      "2                  Press               54                 Normal   \n",
      "3                 Double               70                   Wide   \n",
      "4                  Press               52                 Normal   \n",
      "\n",
      "  defenceDefenderLineClass  \n",
      "0                    Cover  \n",
      "1                    Cover  \n",
      "2                    Cover  \n",
      "3                    Cover  \n",
      "4                    Cover  \n",
      "\n",
      "[5 rows x 25 columns]\n",
      "(1458, 25)\n",
      "\n",
      "\n"
     ]
    }
   ],
   "source": [
    "def sql_read(a,b):\n",
    "    print(a)\n",
    "    print(b.head())\n",
    "    print(b.shape)\n",
    "    print('\\n')\n",
    "    \n",
    "country = pd.read_sql('select * from country', con)\n",
    "sql_read('country', country)\n",
    "league = pd.read_sql('select * from league', con)\n",
    "sql_read('league', league)\n",
    "match = pd.read_sql('select * from match', con)\n",
    "sql_read('match', match)\n",
    "player = pd.read_sql('select * from player', con)\n",
    "sql_read('player', player)\n",
    "player_attributes = pd.read_sql('select * from player_attributes', con)\n",
    "sql_read('player_attributes', player_attributes)\n",
    "team = pd.read_sql('select * from team', con)\n",
    "sql_read('team', team)\n",
    "team_attributes = pd.read_sql('select * from team_attributes', con)\n",
    "sql_read('team_attributes', team_attributes)"
   ]
  },
  {
   "cell_type": "code",
   "execution_count": 45,
   "metadata": {},
   "outputs": [
    {
     "data": {
      "text/html": [
       "<div>\n",
       "<style scoped>\n",
       "    .dataframe tbody tr th:only-of-type {\n",
       "        vertical-align: middle;\n",
       "    }\n",
       "\n",
       "    .dataframe tbody tr th {\n",
       "        vertical-align: top;\n",
       "    }\n",
       "\n",
       "    .dataframe thead th {\n",
       "        text-align: right;\n",
       "    }\n",
       "</style>\n",
       "<table border=\"1\" class=\"dataframe\">\n",
       "  <thead>\n",
       "    <tr style=\"text-align: right;\">\n",
       "      <th></th>\n",
       "      <th>name</th>\n",
       "      <th>seq</th>\n",
       "    </tr>\n",
       "  </thead>\n",
       "  <tbody>\n",
       "    <tr>\n",
       "      <th>0</th>\n",
       "      <td>Team</td>\n",
       "      <td>103916</td>\n",
       "    </tr>\n",
       "    <tr>\n",
       "      <th>1</th>\n",
       "      <td>Country</td>\n",
       "      <td>51958</td>\n",
       "    </tr>\n",
       "    <tr>\n",
       "      <th>2</th>\n",
       "      <td>League</td>\n",
       "      <td>51958</td>\n",
       "    </tr>\n",
       "    <tr>\n",
       "      <th>3</th>\n",
       "      <td>Match</td>\n",
       "      <td>51958</td>\n",
       "    </tr>\n",
       "    <tr>\n",
       "      <th>4</th>\n",
       "      <td>Player</td>\n",
       "      <td>11075</td>\n",
       "    </tr>\n",
       "    <tr>\n",
       "      <th>5</th>\n",
       "      <td>Player_Attributes</td>\n",
       "      <td>183978</td>\n",
       "    </tr>\n",
       "    <tr>\n",
       "      <th>6</th>\n",
       "      <td>Team_Attributes</td>\n",
       "      <td>1458</td>\n",
       "    </tr>\n",
       "  </tbody>\n",
       "</table>\n",
       "</div>"
      ],
      "text/plain": [
       "                name     seq\n",
       "0               Team  103916\n",
       "1            Country   51958\n",
       "2             League   51958\n",
       "3              Match   51958\n",
       "4             Player   11075\n",
       "5  Player_Attributes  183978\n",
       "6    Team_Attributes    1458"
      ]
     },
     "execution_count": 45,
     "metadata": {},
     "output_type": "execute_result"
    }
   ],
   "source": [
    "# get the tables from the data\n",
    "\n",
    "pd.read_sql('select * from sqlite_sequence', con)"
   ]
  },
  {
   "cell_type": "code",
   "execution_count": 46,
   "metadata": {},
   "outputs": [
    {
     "data": {
      "text/html": [
       "<div>\n",
       "<style scoped>\n",
       "    .dataframe tbody tr th:only-of-type {\n",
       "        vertical-align: middle;\n",
       "    }\n",
       "\n",
       "    .dataframe tbody tr th {\n",
       "        vertical-align: top;\n",
       "    }\n",
       "\n",
       "    .dataframe thead th {\n",
       "        text-align: right;\n",
       "    }\n",
       "</style>\n",
       "<table border=\"1\" class=\"dataframe\">\n",
       "  <thead>\n",
       "    <tr style=\"text-align: right;\">\n",
       "      <th></th>\n",
       "      <th>id</th>\n",
       "      <th>team_api_id</th>\n",
       "      <th>team_fifa_api_id</th>\n",
       "      <th>team_long_name</th>\n",
       "      <th>team_short_name</th>\n",
       "    </tr>\n",
       "  </thead>\n",
       "  <tbody>\n",
       "    <tr>\n",
       "      <th>294</th>\n",
       "      <td>49479</td>\n",
       "      <td>10190</td>\n",
       "      <td>898.0</td>\n",
       "      <td>FC St. Gallen</td>\n",
       "      <td>GAL</td>\n",
       "    </tr>\n",
       "    <tr>\n",
       "      <th>295</th>\n",
       "      <td>49837</td>\n",
       "      <td>10191</td>\n",
       "      <td>1715.0</td>\n",
       "      <td>FC Thun</td>\n",
       "      <td>THU</td>\n",
       "    </tr>\n",
       "    <tr>\n",
       "      <th>296</th>\n",
       "      <td>50201</td>\n",
       "      <td>9777</td>\n",
       "      <td>324.0</td>\n",
       "      <td>Servette FC</td>\n",
       "      <td>SER</td>\n",
       "    </tr>\n",
       "    <tr>\n",
       "      <th>297</th>\n",
       "      <td>50204</td>\n",
       "      <td>7730</td>\n",
       "      <td>1862.0</td>\n",
       "      <td>FC Lausanne-Sports</td>\n",
       "      <td>LAU</td>\n",
       "    </tr>\n",
       "    <tr>\n",
       "      <th>298</th>\n",
       "      <td>51606</td>\n",
       "      <td>7896</td>\n",
       "      <td>NaN</td>\n",
       "      <td>Lugano</td>\n",
       "      <td>LUG</td>\n",
       "    </tr>\n",
       "  </tbody>\n",
       "</table>\n",
       "</div>"
      ],
      "text/plain": [
       "        id  team_api_id  team_fifa_api_id      team_long_name team_short_name\n",
       "294  49479        10190             898.0       FC St. Gallen             GAL\n",
       "295  49837        10191            1715.0             FC Thun             THU\n",
       "296  50201         9777             324.0         Servette FC             SER\n",
       "297  50204         7730            1862.0  FC Lausanne-Sports             LAU\n",
       "298  51606         7896               NaN              Lugano             LUG"
      ]
     },
     "execution_count": 46,
     "metadata": {},
     "output_type": "execute_result"
    }
   ],
   "source": [
    "team = pd.read_sql('select * from team', con)\n",
    "\n",
    "team.tail()"
   ]
  },
  {
   "cell_type": "code",
   "execution_count": 47,
   "metadata": {},
   "outputs": [
    {
     "data": {
      "text/plain": [
       "(299, 5)"
      ]
     },
     "execution_count": 47,
     "metadata": {},
     "output_type": "execute_result"
    }
   ],
   "source": [
    "# check the shape\n",
    "\n",
    "team.shape"
   ]
  },
  {
   "cell_type": "markdown",
   "metadata": {},
   "source": [
    "Team table contains 299 rows and 5 columns"
   ]
  },
  {
   "cell_type": "code",
   "execution_count": 48,
   "metadata": {},
   "outputs": [
    {
     "name": "stdout",
     "output_type": "stream",
     "text": [
      "<class 'pandas.core.frame.DataFrame'>\n",
      "RangeIndex: 299 entries, 0 to 298\n",
      "Data columns (total 5 columns):\n",
      " #   Column            Non-Null Count  Dtype  \n",
      "---  ------            --------------  -----  \n",
      " 0   id                299 non-null    int64  \n",
      " 1   team_api_id       299 non-null    int64  \n",
      " 2   team_fifa_api_id  288 non-null    float64\n",
      " 3   team_long_name    299 non-null    object \n",
      " 4   team_short_name   299 non-null    object \n",
      "dtypes: float64(1), int64(2), object(2)\n",
      "memory usage: 11.8+ KB\n"
     ]
    }
   ],
   "source": [
    "# check the team info\n",
    "team.info()"
   ]
  },
  {
   "cell_type": "code",
   "execution_count": 49,
   "metadata": {},
   "outputs": [
    {
     "data": {
      "text/plain": [
       "id                   0\n",
       "team_api_id          0\n",
       "team_fifa_api_id    11\n",
       "team_long_name       0\n",
       "team_short_name      0\n",
       "dtype: int64"
      ]
     },
     "execution_count": 49,
     "metadata": {},
     "output_type": "execute_result"
    }
   ],
   "source": [
    "# check for missing values\n",
    "\n",
    "team.isnull().sum()"
   ]
  },
  {
   "cell_type": "markdown",
   "metadata": {},
   "source": [
    "team_fifa_api_id in the Team table has missing values"
   ]
  },
  {
   "cell_type": "code",
   "execution_count": 50,
   "metadata": {},
   "outputs": [
    {
     "data": {
      "text/html": [
       "<div>\n",
       "<style scoped>\n",
       "    .dataframe tbody tr th:only-of-type {\n",
       "        vertical-align: middle;\n",
       "    }\n",
       "\n",
       "    .dataframe tbody tr th {\n",
       "        vertical-align: top;\n",
       "    }\n",
       "\n",
       "    .dataframe thead th {\n",
       "        text-align: right;\n",
       "    }\n",
       "</style>\n",
       "<table border=\"1\" class=\"dataframe\">\n",
       "  <thead>\n",
       "    <tr style=\"text-align: right;\">\n",
       "      <th></th>\n",
       "      <th>id</th>\n",
       "      <th>name</th>\n",
       "    </tr>\n",
       "  </thead>\n",
       "  <tbody>\n",
       "    <tr>\n",
       "      <th>0</th>\n",
       "      <td>1</td>\n",
       "      <td>Belgium</td>\n",
       "    </tr>\n",
       "    <tr>\n",
       "      <th>1</th>\n",
       "      <td>1729</td>\n",
       "      <td>England</td>\n",
       "    </tr>\n",
       "    <tr>\n",
       "      <th>2</th>\n",
       "      <td>4769</td>\n",
       "      <td>France</td>\n",
       "    </tr>\n",
       "    <tr>\n",
       "      <th>3</th>\n",
       "      <td>7809</td>\n",
       "      <td>Germany</td>\n",
       "    </tr>\n",
       "    <tr>\n",
       "      <th>4</th>\n",
       "      <td>10257</td>\n",
       "      <td>Italy</td>\n",
       "    </tr>\n",
       "    <tr>\n",
       "      <th>5</th>\n",
       "      <td>13274</td>\n",
       "      <td>Netherlands</td>\n",
       "    </tr>\n",
       "    <tr>\n",
       "      <th>6</th>\n",
       "      <td>15722</td>\n",
       "      <td>Poland</td>\n",
       "    </tr>\n",
       "    <tr>\n",
       "      <th>7</th>\n",
       "      <td>17642</td>\n",
       "      <td>Portugal</td>\n",
       "    </tr>\n",
       "    <tr>\n",
       "      <th>8</th>\n",
       "      <td>19694</td>\n",
       "      <td>Scotland</td>\n",
       "    </tr>\n",
       "    <tr>\n",
       "      <th>9</th>\n",
       "      <td>21518</td>\n",
       "      <td>Spain</td>\n",
       "    </tr>\n",
       "    <tr>\n",
       "      <th>10</th>\n",
       "      <td>24558</td>\n",
       "      <td>Switzerland</td>\n",
       "    </tr>\n",
       "  </tbody>\n",
       "</table>\n",
       "</div>"
      ],
      "text/plain": [
       "       id         name\n",
       "0       1      Belgium\n",
       "1    1729      England\n",
       "2    4769       France\n",
       "3    7809      Germany\n",
       "4   10257        Italy\n",
       "5   13274  Netherlands\n",
       "6   15722       Poland\n",
       "7   17642     Portugal\n",
       "8   19694     Scotland\n",
       "9   21518        Spain\n",
       "10  24558  Switzerland"
      ]
     },
     "execution_count": 50,
     "metadata": {},
     "output_type": "execute_result"
    }
   ],
   "source": [
    "# get the 11 European countries in the dataset\n",
    "country = pd.read_sql('select * from country', con)\n",
    "\n",
    "country"
   ]
  },
  {
   "cell_type": "markdown",
   "metadata": {},
   "source": [
    "The 11 European countries from which we will analyse their lead championship, these countries have the top leagues in Europe according to UEFA rankings"
   ]
  },
  {
   "cell_type": "code",
   "execution_count": 51,
   "metadata": {},
   "outputs": [
    {
     "data": {
      "text/plain": [
       "(11, 2)"
      ]
     },
     "execution_count": 51,
     "metadata": {},
     "output_type": "execute_result"
    }
   ],
   "source": [
    "# check the shape\n",
    "country.shape"
   ]
  },
  {
   "cell_type": "markdown",
   "metadata": {},
   "source": [
    "country table contains 11 rows and 2 columns"
   ]
  },
  {
   "cell_type": "code",
   "execution_count": 52,
   "metadata": {},
   "outputs": [
    {
     "name": "stdout",
     "output_type": "stream",
     "text": [
      "<class 'pandas.core.frame.DataFrame'>\n",
      "RangeIndex: 11 entries, 0 to 10\n",
      "Data columns (total 2 columns):\n",
      " #   Column  Non-Null Count  Dtype \n",
      "---  ------  --------------  ----- \n",
      " 0   id      11 non-null     int64 \n",
      " 1   name    11 non-null     object\n",
      "dtypes: int64(1), object(1)\n",
      "memory usage: 304.0+ bytes\n"
     ]
    }
   ],
   "source": [
    "# check the info\n",
    "\n",
    "country.info()"
   ]
  },
  {
   "cell_type": "code",
   "execution_count": 53,
   "metadata": {},
   "outputs": [
    {
     "data": {
      "text/plain": [
       "id      0\n",
       "name    0\n",
       "dtype: int64"
      ]
     },
     "execution_count": 53,
     "metadata": {},
     "output_type": "execute_result"
    }
   ],
   "source": [
    "# Check for missing values\n",
    "\n",
    "country.isnull().sum()"
   ]
  },
  {
   "cell_type": "markdown",
   "metadata": {},
   "source": [
    "country table has no missing value"
   ]
  },
  {
   "cell_type": "code",
   "execution_count": 54,
   "metadata": {},
   "outputs": [
    {
     "data": {
      "text/html": [
       "<div>\n",
       "<style scoped>\n",
       "    .dataframe tbody tr th:only-of-type {\n",
       "        vertical-align: middle;\n",
       "    }\n",
       "\n",
       "    .dataframe tbody tr th {\n",
       "        vertical-align: top;\n",
       "    }\n",
       "\n",
       "    .dataframe thead th {\n",
       "        text-align: right;\n",
       "    }\n",
       "</style>\n",
       "<table border=\"1\" class=\"dataframe\">\n",
       "  <thead>\n",
       "    <tr style=\"text-align: right;\">\n",
       "      <th></th>\n",
       "      <th>id</th>\n",
       "      <th>country_id</th>\n",
       "      <th>name</th>\n",
       "    </tr>\n",
       "  </thead>\n",
       "  <tbody>\n",
       "    <tr>\n",
       "      <th>0</th>\n",
       "      <td>1</td>\n",
       "      <td>1</td>\n",
       "      <td>Belgium Jupiler League</td>\n",
       "    </tr>\n",
       "    <tr>\n",
       "      <th>1</th>\n",
       "      <td>1729</td>\n",
       "      <td>1729</td>\n",
       "      <td>England Premier League</td>\n",
       "    </tr>\n",
       "    <tr>\n",
       "      <th>2</th>\n",
       "      <td>4769</td>\n",
       "      <td>4769</td>\n",
       "      <td>France Ligue 1</td>\n",
       "    </tr>\n",
       "    <tr>\n",
       "      <th>3</th>\n",
       "      <td>7809</td>\n",
       "      <td>7809</td>\n",
       "      <td>Germany 1. Bundesliga</td>\n",
       "    </tr>\n",
       "    <tr>\n",
       "      <th>4</th>\n",
       "      <td>10257</td>\n",
       "      <td>10257</td>\n",
       "      <td>Italy Serie A</td>\n",
       "    </tr>\n",
       "    <tr>\n",
       "      <th>5</th>\n",
       "      <td>13274</td>\n",
       "      <td>13274</td>\n",
       "      <td>Netherlands Eredivisie</td>\n",
       "    </tr>\n",
       "    <tr>\n",
       "      <th>6</th>\n",
       "      <td>15722</td>\n",
       "      <td>15722</td>\n",
       "      <td>Poland Ekstraklasa</td>\n",
       "    </tr>\n",
       "    <tr>\n",
       "      <th>7</th>\n",
       "      <td>17642</td>\n",
       "      <td>17642</td>\n",
       "      <td>Portugal Liga ZON Sagres</td>\n",
       "    </tr>\n",
       "    <tr>\n",
       "      <th>8</th>\n",
       "      <td>19694</td>\n",
       "      <td>19694</td>\n",
       "      <td>Scotland Premier League</td>\n",
       "    </tr>\n",
       "    <tr>\n",
       "      <th>9</th>\n",
       "      <td>21518</td>\n",
       "      <td>21518</td>\n",
       "      <td>Spain LIGA BBVA</td>\n",
       "    </tr>\n",
       "    <tr>\n",
       "      <th>10</th>\n",
       "      <td>24558</td>\n",
       "      <td>24558</td>\n",
       "      <td>Switzerland Super League</td>\n",
       "    </tr>\n",
       "  </tbody>\n",
       "</table>\n",
       "</div>"
      ],
      "text/plain": [
       "       id  country_id                      name\n",
       "0       1           1    Belgium Jupiler League\n",
       "1    1729        1729    England Premier League\n",
       "2    4769        4769            France Ligue 1\n",
       "3    7809        7809     Germany 1. Bundesliga\n",
       "4   10257       10257             Italy Serie A\n",
       "5   13274       13274    Netherlands Eredivisie\n",
       "6   15722       15722        Poland Ekstraklasa\n",
       "7   17642       17642  Portugal Liga ZON Sagres\n",
       "8   19694       19694   Scotland Premier League\n",
       "9   21518       21518           Spain LIGA BBVA\n",
       "10  24558       24558  Switzerland Super League"
      ]
     },
     "execution_count": 54,
     "metadata": {},
     "output_type": "execute_result"
    }
   ],
   "source": [
    "# get the Professional leagues of the countries\n",
    "league = pd.read_sql('select * from league', con)\n",
    "\n",
    "league"
   ]
  },
  {
   "cell_type": "code",
   "execution_count": 55,
   "metadata": {},
   "outputs": [
    {
     "name": "stdout",
     "output_type": "stream",
     "text": [
      "<class 'pandas.core.frame.DataFrame'>\n",
      "RangeIndex: 11 entries, 0 to 10\n",
      "Data columns (total 3 columns):\n",
      " #   Column      Non-Null Count  Dtype \n",
      "---  ------      --------------  ----- \n",
      " 0   id          11 non-null     int64 \n",
      " 1   country_id  11 non-null     int64 \n",
      " 2   name        11 non-null     object\n",
      "dtypes: int64(2), object(1)\n",
      "memory usage: 392.0+ bytes\n"
     ]
    }
   ],
   "source": [
    "league.info()"
   ]
  },
  {
   "cell_type": "markdown",
   "metadata": {},
   "source": [
    "league table contains 11 rows and 3 columns"
   ]
  },
  {
   "cell_type": "code",
   "execution_count": 56,
   "metadata": {},
   "outputs": [
    {
     "data": {
      "text/plain": [
       "id            0\n",
       "country_id    0\n",
       "name          0\n",
       "dtype: int64"
      ]
     },
     "execution_count": 56,
     "metadata": {},
     "output_type": "execute_result"
    }
   ],
   "source": [
    "# Check for null values\n",
    "\n",
    "league.isnull().sum()"
   ]
  },
  {
   "cell_type": "markdown",
   "metadata": {},
   "source": [
    "league table has no missing value"
   ]
  },
  {
   "cell_type": "code",
   "execution_count": 57,
   "metadata": {},
   "outputs": [
    {
     "data": {
      "text/html": [
       "<div>\n",
       "<style scoped>\n",
       "    .dataframe tbody tr th:only-of-type {\n",
       "        vertical-align: middle;\n",
       "    }\n",
       "\n",
       "    .dataframe tbody tr th {\n",
       "        vertical-align: top;\n",
       "    }\n",
       "\n",
       "    .dataframe thead th {\n",
       "        text-align: right;\n",
       "    }\n",
       "</style>\n",
       "<table border=\"1\" class=\"dataframe\">\n",
       "  <thead>\n",
       "    <tr style=\"text-align: right;\">\n",
       "      <th></th>\n",
       "      <th>id</th>\n",
       "      <th>country_id</th>\n",
       "      <th>league_id</th>\n",
       "      <th>season</th>\n",
       "      <th>stage</th>\n",
       "      <th>date</th>\n",
       "      <th>match_api_id</th>\n",
       "      <th>home_team_api_id</th>\n",
       "      <th>away_team_api_id</th>\n",
       "      <th>home_team_goal</th>\n",
       "      <th>...</th>\n",
       "      <th>SJA</th>\n",
       "      <th>VCH</th>\n",
       "      <th>VCD</th>\n",
       "      <th>VCA</th>\n",
       "      <th>GBH</th>\n",
       "      <th>GBD</th>\n",
       "      <th>GBA</th>\n",
       "      <th>BSH</th>\n",
       "      <th>BSD</th>\n",
       "      <th>BSA</th>\n",
       "    </tr>\n",
       "  </thead>\n",
       "  <tbody>\n",
       "    <tr>\n",
       "      <th>0</th>\n",
       "      <td>1</td>\n",
       "      <td>1</td>\n",
       "      <td>1</td>\n",
       "      <td>2008/2009</td>\n",
       "      <td>1</td>\n",
       "      <td>2008-08-17 00:00:00</td>\n",
       "      <td>492473</td>\n",
       "      <td>9987</td>\n",
       "      <td>9993</td>\n",
       "      <td>1</td>\n",
       "      <td>...</td>\n",
       "      <td>4.00</td>\n",
       "      <td>1.65</td>\n",
       "      <td>3.40</td>\n",
       "      <td>4.50</td>\n",
       "      <td>1.78</td>\n",
       "      <td>3.25</td>\n",
       "      <td>4.00</td>\n",
       "      <td>1.73</td>\n",
       "      <td>3.40</td>\n",
       "      <td>4.20</td>\n",
       "    </tr>\n",
       "    <tr>\n",
       "      <th>1</th>\n",
       "      <td>2</td>\n",
       "      <td>1</td>\n",
       "      <td>1</td>\n",
       "      <td>2008/2009</td>\n",
       "      <td>1</td>\n",
       "      <td>2008-08-16 00:00:00</td>\n",
       "      <td>492474</td>\n",
       "      <td>10000</td>\n",
       "      <td>9994</td>\n",
       "      <td>0</td>\n",
       "      <td>...</td>\n",
       "      <td>3.80</td>\n",
       "      <td>2.00</td>\n",
       "      <td>3.25</td>\n",
       "      <td>3.25</td>\n",
       "      <td>1.85</td>\n",
       "      <td>3.25</td>\n",
       "      <td>3.75</td>\n",
       "      <td>1.91</td>\n",
       "      <td>3.25</td>\n",
       "      <td>3.60</td>\n",
       "    </tr>\n",
       "    <tr>\n",
       "      <th>2</th>\n",
       "      <td>3</td>\n",
       "      <td>1</td>\n",
       "      <td>1</td>\n",
       "      <td>2008/2009</td>\n",
       "      <td>1</td>\n",
       "      <td>2008-08-16 00:00:00</td>\n",
       "      <td>492475</td>\n",
       "      <td>9984</td>\n",
       "      <td>8635</td>\n",
       "      <td>0</td>\n",
       "      <td>...</td>\n",
       "      <td>2.50</td>\n",
       "      <td>2.35</td>\n",
       "      <td>3.25</td>\n",
       "      <td>2.65</td>\n",
       "      <td>2.50</td>\n",
       "      <td>3.20</td>\n",
       "      <td>2.50</td>\n",
       "      <td>2.30</td>\n",
       "      <td>3.20</td>\n",
       "      <td>2.75</td>\n",
       "    </tr>\n",
       "    <tr>\n",
       "      <th>3</th>\n",
       "      <td>4</td>\n",
       "      <td>1</td>\n",
       "      <td>1</td>\n",
       "      <td>2008/2009</td>\n",
       "      <td>1</td>\n",
       "      <td>2008-08-17 00:00:00</td>\n",
       "      <td>492476</td>\n",
       "      <td>9991</td>\n",
       "      <td>9998</td>\n",
       "      <td>5</td>\n",
       "      <td>...</td>\n",
       "      <td>7.50</td>\n",
       "      <td>1.45</td>\n",
       "      <td>3.75</td>\n",
       "      <td>6.50</td>\n",
       "      <td>1.50</td>\n",
       "      <td>3.75</td>\n",
       "      <td>5.50</td>\n",
       "      <td>1.44</td>\n",
       "      <td>3.75</td>\n",
       "      <td>6.50</td>\n",
       "    </tr>\n",
       "    <tr>\n",
       "      <th>4</th>\n",
       "      <td>5</td>\n",
       "      <td>1</td>\n",
       "      <td>1</td>\n",
       "      <td>2008/2009</td>\n",
       "      <td>1</td>\n",
       "      <td>2008-08-16 00:00:00</td>\n",
       "      <td>492477</td>\n",
       "      <td>7947</td>\n",
       "      <td>9985</td>\n",
       "      <td>1</td>\n",
       "      <td>...</td>\n",
       "      <td>1.73</td>\n",
       "      <td>4.50</td>\n",
       "      <td>3.40</td>\n",
       "      <td>1.65</td>\n",
       "      <td>4.50</td>\n",
       "      <td>3.50</td>\n",
       "      <td>1.65</td>\n",
       "      <td>4.75</td>\n",
       "      <td>3.30</td>\n",
       "      <td>1.67</td>\n",
       "    </tr>\n",
       "  </tbody>\n",
       "</table>\n",
       "<p>5 rows × 115 columns</p>\n",
       "</div>"
      ],
      "text/plain": [
       "   id  country_id  league_id     season  stage                 date  \\\n",
       "0   1           1          1  2008/2009      1  2008-08-17 00:00:00   \n",
       "1   2           1          1  2008/2009      1  2008-08-16 00:00:00   \n",
       "2   3           1          1  2008/2009      1  2008-08-16 00:00:00   \n",
       "3   4           1          1  2008/2009      1  2008-08-17 00:00:00   \n",
       "4   5           1          1  2008/2009      1  2008-08-16 00:00:00   \n",
       "\n",
       "   match_api_id  home_team_api_id  away_team_api_id  home_team_goal  ...  \\\n",
       "0        492473              9987              9993               1  ...   \n",
       "1        492474             10000              9994               0  ...   \n",
       "2        492475              9984              8635               0  ...   \n",
       "3        492476              9991              9998               5  ...   \n",
       "4        492477              7947              9985               1  ...   \n",
       "\n",
       "    SJA   VCH   VCD   VCA   GBH   GBD   GBA   BSH   BSD   BSA  \n",
       "0  4.00  1.65  3.40  4.50  1.78  3.25  4.00  1.73  3.40  4.20  \n",
       "1  3.80  2.00  3.25  3.25  1.85  3.25  3.75  1.91  3.25  3.60  \n",
       "2  2.50  2.35  3.25  2.65  2.50  3.20  2.50  2.30  3.20  2.75  \n",
       "3  7.50  1.45  3.75  6.50  1.50  3.75  5.50  1.44  3.75  6.50  \n",
       "4  1.73  4.50  3.40  1.65  4.50  3.50  1.65  4.75  3.30  1.67  \n",
       "\n",
       "[5 rows x 115 columns]"
      ]
     },
     "execution_count": 57,
     "metadata": {},
     "output_type": "execute_result"
    }
   ],
   "source": [
    "match = pd.read_sql('select * from match', con)\n",
    "\n",
    "match.head()"
   ]
  },
  {
   "cell_type": "code",
   "execution_count": 58,
   "metadata": {},
   "outputs": [
    {
     "name": "stdout",
     "output_type": "stream",
     "text": [
      "<class 'pandas.core.frame.DataFrame'>\n",
      "RangeIndex: 25979 entries, 0 to 25978\n",
      "Columns: 115 entries, id to BSA\n",
      "dtypes: float64(96), int64(9), object(10)\n",
      "memory usage: 22.8+ MB\n"
     ]
    }
   ],
   "source": [
    "match.info()"
   ]
  },
  {
   "cell_type": "markdown",
   "metadata": {},
   "source": [
    "match table contains 25979 rows and 115 columns"
   ]
  },
  {
   "cell_type": "code",
   "execution_count": 59,
   "metadata": {},
   "outputs": [
    {
     "data": {
      "text/plain": [
       "id                0\n",
       "country_id        0\n",
       "league_id         0\n",
       "season            0\n",
       "stage             0\n",
       "              ...  \n",
       "GBD           11817\n",
       "GBA           11817\n",
       "BSH           11818\n",
       "BSD           11818\n",
       "BSA           11818\n",
       "Length: 115, dtype: int64"
      ]
     },
     "execution_count": 59,
     "metadata": {},
     "output_type": "execute_result"
    }
   ],
   "source": [
    "# Check for missing values\n",
    "\n",
    "match.isnull().sum()"
   ]
  },
  {
   "cell_type": "code",
   "execution_count": 60,
   "metadata": {},
   "outputs": [
    {
     "data": {
      "text/html": [
       "<div>\n",
       "<style scoped>\n",
       "    .dataframe tbody tr th:only-of-type {\n",
       "        vertical-align: middle;\n",
       "    }\n",
       "\n",
       "    .dataframe tbody tr th {\n",
       "        vertical-align: top;\n",
       "    }\n",
       "\n",
       "    .dataframe thead th {\n",
       "        text-align: right;\n",
       "    }\n",
       "</style>\n",
       "<table border=\"1\" class=\"dataframe\">\n",
       "  <thead>\n",
       "    <tr style=\"text-align: right;\">\n",
       "      <th></th>\n",
       "      <th>id</th>\n",
       "      <th>player_api_id</th>\n",
       "      <th>player_name</th>\n",
       "      <th>player_fifa_api_id</th>\n",
       "      <th>birthday</th>\n",
       "      <th>height</th>\n",
       "      <th>weight</th>\n",
       "    </tr>\n",
       "  </thead>\n",
       "  <tbody>\n",
       "    <tr>\n",
       "      <th>0</th>\n",
       "      <td>1</td>\n",
       "      <td>505942</td>\n",
       "      <td>Aaron Appindangoye</td>\n",
       "      <td>218353</td>\n",
       "      <td>1992-02-29 00:00:00</td>\n",
       "      <td>182.88</td>\n",
       "      <td>187</td>\n",
       "    </tr>\n",
       "    <tr>\n",
       "      <th>1</th>\n",
       "      <td>2</td>\n",
       "      <td>155782</td>\n",
       "      <td>Aaron Cresswell</td>\n",
       "      <td>189615</td>\n",
       "      <td>1989-12-15 00:00:00</td>\n",
       "      <td>170.18</td>\n",
       "      <td>146</td>\n",
       "    </tr>\n",
       "    <tr>\n",
       "      <th>2</th>\n",
       "      <td>3</td>\n",
       "      <td>162549</td>\n",
       "      <td>Aaron Doran</td>\n",
       "      <td>186170</td>\n",
       "      <td>1991-05-13 00:00:00</td>\n",
       "      <td>170.18</td>\n",
       "      <td>163</td>\n",
       "    </tr>\n",
       "    <tr>\n",
       "      <th>3</th>\n",
       "      <td>4</td>\n",
       "      <td>30572</td>\n",
       "      <td>Aaron Galindo</td>\n",
       "      <td>140161</td>\n",
       "      <td>1982-05-08 00:00:00</td>\n",
       "      <td>182.88</td>\n",
       "      <td>198</td>\n",
       "    </tr>\n",
       "    <tr>\n",
       "      <th>4</th>\n",
       "      <td>5</td>\n",
       "      <td>23780</td>\n",
       "      <td>Aaron Hughes</td>\n",
       "      <td>17725</td>\n",
       "      <td>1979-11-08 00:00:00</td>\n",
       "      <td>182.88</td>\n",
       "      <td>154</td>\n",
       "    </tr>\n",
       "  </tbody>\n",
       "</table>\n",
       "</div>"
      ],
      "text/plain": [
       "   id  player_api_id         player_name  player_fifa_api_id  \\\n",
       "0   1         505942  Aaron Appindangoye              218353   \n",
       "1   2         155782     Aaron Cresswell              189615   \n",
       "2   3         162549         Aaron Doran              186170   \n",
       "3   4          30572       Aaron Galindo              140161   \n",
       "4   5          23780        Aaron Hughes               17725   \n",
       "\n",
       "              birthday  height  weight  \n",
       "0  1992-02-29 00:00:00  182.88     187  \n",
       "1  1989-12-15 00:00:00  170.18     146  \n",
       "2  1991-05-13 00:00:00  170.18     163  \n",
       "3  1982-05-08 00:00:00  182.88     198  \n",
       "4  1979-11-08 00:00:00  182.88     154  "
      ]
     },
     "execution_count": 60,
     "metadata": {},
     "output_type": "execute_result"
    }
   ],
   "source": [
    "# get the player table\n",
    "\n",
    "# player = pd.read_sql('select * from player', con)\n",
    "\n",
    "player.head()"
   ]
  },
  {
   "cell_type": "code",
   "execution_count": 61,
   "metadata": {},
   "outputs": [
    {
     "name": "stdout",
     "output_type": "stream",
     "text": [
      "<class 'pandas.core.frame.DataFrame'>\n",
      "RangeIndex: 11060 entries, 0 to 11059\n",
      "Data columns (total 7 columns):\n",
      " #   Column              Non-Null Count  Dtype  \n",
      "---  ------              --------------  -----  \n",
      " 0   id                  11060 non-null  int64  \n",
      " 1   player_api_id       11060 non-null  int64  \n",
      " 2   player_name         11060 non-null  object \n",
      " 3   player_fifa_api_id  11060 non-null  int64  \n",
      " 4   birthday            11060 non-null  object \n",
      " 5   height              11060 non-null  float64\n",
      " 6   weight              11060 non-null  int64  \n",
      "dtypes: float64(1), int64(4), object(2)\n",
      "memory usage: 605.0+ KB\n"
     ]
    }
   ],
   "source": [
    "player.info()"
   ]
  },
  {
   "cell_type": "markdown",
   "metadata": {},
   "source": [
    "Players table contains 11060 rows and 7 columns"
   ]
  },
  {
   "cell_type": "code",
   "execution_count": 62,
   "metadata": {},
   "outputs": [
    {
     "data": {
      "text/plain": [
       "id                    0\n",
       "player_api_id         0\n",
       "player_name           0\n",
       "player_fifa_api_id    0\n",
       "birthday              0\n",
       "height                0\n",
       "weight                0\n",
       "dtype: int64"
      ]
     },
     "execution_count": 62,
     "metadata": {},
     "output_type": "execute_result"
    }
   ],
   "source": [
    "# Check for missing values\n",
    "\n",
    "player.isnull().sum()"
   ]
  },
  {
   "cell_type": "markdown",
   "metadata": {},
   "source": [
    "Players tables has no missing value"
   ]
  },
  {
   "cell_type": "code",
   "execution_count": 63,
   "metadata": {},
   "outputs": [
    {
     "data": {
      "text/html": [
       "<div>\n",
       "<style scoped>\n",
       "    .dataframe tbody tr th:only-of-type {\n",
       "        vertical-align: middle;\n",
       "    }\n",
       "\n",
       "    .dataframe tbody tr th {\n",
       "        vertical-align: top;\n",
       "    }\n",
       "\n",
       "    .dataframe thead th {\n",
       "        text-align: right;\n",
       "    }\n",
       "</style>\n",
       "<table border=\"1\" class=\"dataframe\">\n",
       "  <thead>\n",
       "    <tr style=\"text-align: right;\">\n",
       "      <th></th>\n",
       "      <th>id</th>\n",
       "      <th>player_fifa_api_id</th>\n",
       "      <th>player_api_id</th>\n",
       "      <th>date</th>\n",
       "      <th>overall_rating</th>\n",
       "      <th>potential</th>\n",
       "      <th>preferred_foot</th>\n",
       "      <th>attacking_work_rate</th>\n",
       "      <th>defensive_work_rate</th>\n",
       "      <th>crossing</th>\n",
       "      <th>...</th>\n",
       "      <th>vision</th>\n",
       "      <th>penalties</th>\n",
       "      <th>marking</th>\n",
       "      <th>standing_tackle</th>\n",
       "      <th>sliding_tackle</th>\n",
       "      <th>gk_diving</th>\n",
       "      <th>gk_handling</th>\n",
       "      <th>gk_kicking</th>\n",
       "      <th>gk_positioning</th>\n",
       "      <th>gk_reflexes</th>\n",
       "    </tr>\n",
       "  </thead>\n",
       "  <tbody>\n",
       "    <tr>\n",
       "      <th>0</th>\n",
       "      <td>1</td>\n",
       "      <td>218353</td>\n",
       "      <td>505942</td>\n",
       "      <td>2016-02-18 00:00:00</td>\n",
       "      <td>67.0</td>\n",
       "      <td>71.0</td>\n",
       "      <td>right</td>\n",
       "      <td>medium</td>\n",
       "      <td>medium</td>\n",
       "      <td>49.0</td>\n",
       "      <td>...</td>\n",
       "      <td>54.0</td>\n",
       "      <td>48.0</td>\n",
       "      <td>65.0</td>\n",
       "      <td>69.0</td>\n",
       "      <td>69.0</td>\n",
       "      <td>6.0</td>\n",
       "      <td>11.0</td>\n",
       "      <td>10.0</td>\n",
       "      <td>8.0</td>\n",
       "      <td>8.0</td>\n",
       "    </tr>\n",
       "    <tr>\n",
       "      <th>1</th>\n",
       "      <td>2</td>\n",
       "      <td>218353</td>\n",
       "      <td>505942</td>\n",
       "      <td>2015-11-19 00:00:00</td>\n",
       "      <td>67.0</td>\n",
       "      <td>71.0</td>\n",
       "      <td>right</td>\n",
       "      <td>medium</td>\n",
       "      <td>medium</td>\n",
       "      <td>49.0</td>\n",
       "      <td>...</td>\n",
       "      <td>54.0</td>\n",
       "      <td>48.0</td>\n",
       "      <td>65.0</td>\n",
       "      <td>69.0</td>\n",
       "      <td>69.0</td>\n",
       "      <td>6.0</td>\n",
       "      <td>11.0</td>\n",
       "      <td>10.0</td>\n",
       "      <td>8.0</td>\n",
       "      <td>8.0</td>\n",
       "    </tr>\n",
       "    <tr>\n",
       "      <th>2</th>\n",
       "      <td>3</td>\n",
       "      <td>218353</td>\n",
       "      <td>505942</td>\n",
       "      <td>2015-09-21 00:00:00</td>\n",
       "      <td>62.0</td>\n",
       "      <td>66.0</td>\n",
       "      <td>right</td>\n",
       "      <td>medium</td>\n",
       "      <td>medium</td>\n",
       "      <td>49.0</td>\n",
       "      <td>...</td>\n",
       "      <td>54.0</td>\n",
       "      <td>48.0</td>\n",
       "      <td>65.0</td>\n",
       "      <td>66.0</td>\n",
       "      <td>69.0</td>\n",
       "      <td>6.0</td>\n",
       "      <td>11.0</td>\n",
       "      <td>10.0</td>\n",
       "      <td>8.0</td>\n",
       "      <td>8.0</td>\n",
       "    </tr>\n",
       "    <tr>\n",
       "      <th>3</th>\n",
       "      <td>4</td>\n",
       "      <td>218353</td>\n",
       "      <td>505942</td>\n",
       "      <td>2015-03-20 00:00:00</td>\n",
       "      <td>61.0</td>\n",
       "      <td>65.0</td>\n",
       "      <td>right</td>\n",
       "      <td>medium</td>\n",
       "      <td>medium</td>\n",
       "      <td>48.0</td>\n",
       "      <td>...</td>\n",
       "      <td>53.0</td>\n",
       "      <td>47.0</td>\n",
       "      <td>62.0</td>\n",
       "      <td>63.0</td>\n",
       "      <td>66.0</td>\n",
       "      <td>5.0</td>\n",
       "      <td>10.0</td>\n",
       "      <td>9.0</td>\n",
       "      <td>7.0</td>\n",
       "      <td>7.0</td>\n",
       "    </tr>\n",
       "    <tr>\n",
       "      <th>4</th>\n",
       "      <td>5</td>\n",
       "      <td>218353</td>\n",
       "      <td>505942</td>\n",
       "      <td>2007-02-22 00:00:00</td>\n",
       "      <td>61.0</td>\n",
       "      <td>65.0</td>\n",
       "      <td>right</td>\n",
       "      <td>medium</td>\n",
       "      <td>medium</td>\n",
       "      <td>48.0</td>\n",
       "      <td>...</td>\n",
       "      <td>53.0</td>\n",
       "      <td>47.0</td>\n",
       "      <td>62.0</td>\n",
       "      <td>63.0</td>\n",
       "      <td>66.0</td>\n",
       "      <td>5.0</td>\n",
       "      <td>10.0</td>\n",
       "      <td>9.0</td>\n",
       "      <td>7.0</td>\n",
       "      <td>7.0</td>\n",
       "    </tr>\n",
       "  </tbody>\n",
       "</table>\n",
       "<p>5 rows × 42 columns</p>\n",
       "</div>"
      ],
      "text/plain": [
       "   id  player_fifa_api_id  player_api_id                 date  overall_rating  \\\n",
       "0   1              218353         505942  2016-02-18 00:00:00            67.0   \n",
       "1   2              218353         505942  2015-11-19 00:00:00            67.0   \n",
       "2   3              218353         505942  2015-09-21 00:00:00            62.0   \n",
       "3   4              218353         505942  2015-03-20 00:00:00            61.0   \n",
       "4   5              218353         505942  2007-02-22 00:00:00            61.0   \n",
       "\n",
       "   potential preferred_foot attacking_work_rate defensive_work_rate  crossing  \\\n",
       "0       71.0          right              medium              medium      49.0   \n",
       "1       71.0          right              medium              medium      49.0   \n",
       "2       66.0          right              medium              medium      49.0   \n",
       "3       65.0          right              medium              medium      48.0   \n",
       "4       65.0          right              medium              medium      48.0   \n",
       "\n",
       "   ...  vision  penalties  marking  standing_tackle  sliding_tackle  \\\n",
       "0  ...    54.0       48.0     65.0             69.0            69.0   \n",
       "1  ...    54.0       48.0     65.0             69.0            69.0   \n",
       "2  ...    54.0       48.0     65.0             66.0            69.0   \n",
       "3  ...    53.0       47.0     62.0             63.0            66.0   \n",
       "4  ...    53.0       47.0     62.0             63.0            66.0   \n",
       "\n",
       "   gk_diving  gk_handling  gk_kicking  gk_positioning  gk_reflexes  \n",
       "0        6.0         11.0        10.0             8.0          8.0  \n",
       "1        6.0         11.0        10.0             8.0          8.0  \n",
       "2        6.0         11.0        10.0             8.0          8.0  \n",
       "3        5.0         10.0         9.0             7.0          7.0  \n",
       "4        5.0         10.0         9.0             7.0          7.0  \n",
       "\n",
       "[5 rows x 42 columns]"
      ]
     },
     "execution_count": 63,
     "metadata": {},
     "output_type": "execute_result"
    }
   ],
   "source": [
    "player_attributes = pd.read_sql('select * from player_attributes', con)\n",
    "\n",
    "player_attributes.head()"
   ]
  },
  {
   "cell_type": "markdown",
   "metadata": {},
   "source": [
    "the data above is the player attributes table from the 11 European countries containing their ratings, potential and overall features over seasons."
   ]
  },
  {
   "cell_type": "code",
   "execution_count": 64,
   "metadata": {},
   "outputs": [
    {
     "data": {
      "text/plain": [
       "id                        0\n",
       "player_fifa_api_id        0\n",
       "player_api_id             0\n",
       "date                      0\n",
       "overall_rating          836\n",
       "potential               836\n",
       "preferred_foot          836\n",
       "attacking_work_rate    3230\n",
       "defensive_work_rate     836\n",
       "crossing                836\n",
       "finishing               836\n",
       "heading_accuracy        836\n",
       "short_passing           836\n",
       "volleys                2713\n",
       "dribbling               836\n",
       "curve                  2713\n",
       "free_kick_accuracy      836\n",
       "long_passing            836\n",
       "ball_control            836\n",
       "acceleration            836\n",
       "sprint_speed            836\n",
       "agility                2713\n",
       "reactions               836\n",
       "balance                2713\n",
       "shot_power              836\n",
       "jumping                2713\n",
       "stamina                 836\n",
       "strength                836\n",
       "long_shots              836\n",
       "aggression              836\n",
       "interceptions           836\n",
       "positioning             836\n",
       "vision                 2713\n",
       "penalties               836\n",
       "marking                 836\n",
       "standing_tackle         836\n",
       "sliding_tackle         2713\n",
       "gk_diving               836\n",
       "gk_handling             836\n",
       "gk_kicking              836\n",
       "gk_positioning          836\n",
       "gk_reflexes             836\n",
       "dtype: int64"
      ]
     },
     "execution_count": 64,
     "metadata": {},
     "output_type": "execute_result"
    }
   ],
   "source": [
    "# check for missing values\n",
    "\n",
    "player_attributes.isnull().sum()"
   ]
  },
  {
   "cell_type": "markdown",
   "metadata": {},
   "source": [
    "Player attributes table has missing values"
   ]
  },
  {
   "cell_type": "code",
   "execution_count": 65,
   "metadata": {},
   "outputs": [
    {
     "name": "stdout",
     "output_type": "stream",
     "text": [
      "<class 'pandas.core.frame.DataFrame'>\n",
      "RangeIndex: 183978 entries, 0 to 183977\n",
      "Data columns (total 42 columns):\n",
      " #   Column               Non-Null Count   Dtype  \n",
      "---  ------               --------------   -----  \n",
      " 0   id                   183978 non-null  int64  \n",
      " 1   player_fifa_api_id   183978 non-null  int64  \n",
      " 2   player_api_id        183978 non-null  int64  \n",
      " 3   date                 183978 non-null  object \n",
      " 4   overall_rating       183142 non-null  float64\n",
      " 5   potential            183142 non-null  float64\n",
      " 6   preferred_foot       183142 non-null  object \n",
      " 7   attacking_work_rate  180748 non-null  object \n",
      " 8   defensive_work_rate  183142 non-null  object \n",
      " 9   crossing             183142 non-null  float64\n",
      " 10  finishing            183142 non-null  float64\n",
      " 11  heading_accuracy     183142 non-null  float64\n",
      " 12  short_passing        183142 non-null  float64\n",
      " 13  volleys              181265 non-null  float64\n",
      " 14  dribbling            183142 non-null  float64\n",
      " 15  curve                181265 non-null  float64\n",
      " 16  free_kick_accuracy   183142 non-null  float64\n",
      " 17  long_passing         183142 non-null  float64\n",
      " 18  ball_control         183142 non-null  float64\n",
      " 19  acceleration         183142 non-null  float64\n",
      " 20  sprint_speed         183142 non-null  float64\n",
      " 21  agility              181265 non-null  float64\n",
      " 22  reactions            183142 non-null  float64\n",
      " 23  balance              181265 non-null  float64\n",
      " 24  shot_power           183142 non-null  float64\n",
      " 25  jumping              181265 non-null  float64\n",
      " 26  stamina              183142 non-null  float64\n",
      " 27  strength             183142 non-null  float64\n",
      " 28  long_shots           183142 non-null  float64\n",
      " 29  aggression           183142 non-null  float64\n",
      " 30  interceptions        183142 non-null  float64\n",
      " 31  positioning          183142 non-null  float64\n",
      " 32  vision               181265 non-null  float64\n",
      " 33  penalties            183142 non-null  float64\n",
      " 34  marking              183142 non-null  float64\n",
      " 35  standing_tackle      183142 non-null  float64\n",
      " 36  sliding_tackle       181265 non-null  float64\n",
      " 37  gk_diving            183142 non-null  float64\n",
      " 38  gk_handling          183142 non-null  float64\n",
      " 39  gk_kicking           183142 non-null  float64\n",
      " 40  gk_positioning       183142 non-null  float64\n",
      " 41  gk_reflexes          183142 non-null  float64\n",
      "dtypes: float64(35), int64(3), object(4)\n",
      "memory usage: 59.0+ MB\n"
     ]
    }
   ],
   "source": [
    "# player attributes ie. peculiarity of every player in this 11 European league \n",
    "player_attributes.info()"
   ]
  },
  {
   "cell_type": "markdown",
   "metadata": {},
   "source": [
    "Player attributes tables contains 183978 rows and 42 columns"
   ]
  },
  {
   "cell_type": "code",
   "execution_count": 66,
   "metadata": {},
   "outputs": [
    {
     "data": {
      "text/html": [
       "<div>\n",
       "<style scoped>\n",
       "    .dataframe tbody tr th:only-of-type {\n",
       "        vertical-align: middle;\n",
       "    }\n",
       "\n",
       "    .dataframe tbody tr th {\n",
       "        vertical-align: top;\n",
       "    }\n",
       "\n",
       "    .dataframe thead th {\n",
       "        text-align: right;\n",
       "    }\n",
       "</style>\n",
       "<table border=\"1\" class=\"dataframe\">\n",
       "  <thead>\n",
       "    <tr style=\"text-align: right;\">\n",
       "      <th></th>\n",
       "      <th>id</th>\n",
       "      <th>team_fifa_api_id</th>\n",
       "      <th>team_api_id</th>\n",
       "      <th>date</th>\n",
       "      <th>buildUpPlaySpeed</th>\n",
       "      <th>buildUpPlaySpeedClass</th>\n",
       "      <th>buildUpPlayDribbling</th>\n",
       "      <th>buildUpPlayDribblingClass</th>\n",
       "      <th>buildUpPlayPassing</th>\n",
       "      <th>buildUpPlayPassingClass</th>\n",
       "      <th>...</th>\n",
       "      <th>chanceCreationShooting</th>\n",
       "      <th>chanceCreationShootingClass</th>\n",
       "      <th>chanceCreationPositioningClass</th>\n",
       "      <th>defencePressure</th>\n",
       "      <th>defencePressureClass</th>\n",
       "      <th>defenceAggression</th>\n",
       "      <th>defenceAggressionClass</th>\n",
       "      <th>defenceTeamWidth</th>\n",
       "      <th>defenceTeamWidthClass</th>\n",
       "      <th>defenceDefenderLineClass</th>\n",
       "    </tr>\n",
       "  </thead>\n",
       "  <tbody>\n",
       "    <tr>\n",
       "      <th>1453</th>\n",
       "      <td>1454</td>\n",
       "      <td>15005</td>\n",
       "      <td>10000</td>\n",
       "      <td>2011-02-22 00:00:00</td>\n",
       "      <td>52</td>\n",
       "      <td>Balanced</td>\n",
       "      <td>NaN</td>\n",
       "      <td>Little</td>\n",
       "      <td>52</td>\n",
       "      <td>Mixed</td>\n",
       "      <td>...</td>\n",
       "      <td>53</td>\n",
       "      <td>Normal</td>\n",
       "      <td>Organised</td>\n",
       "      <td>46</td>\n",
       "      <td>Medium</td>\n",
       "      <td>48</td>\n",
       "      <td>Press</td>\n",
       "      <td>53</td>\n",
       "      <td>Normal</td>\n",
       "      <td>Cover</td>\n",
       "    </tr>\n",
       "    <tr>\n",
       "      <th>1454</th>\n",
       "      <td>1455</td>\n",
       "      <td>15005</td>\n",
       "      <td>10000</td>\n",
       "      <td>2012-02-22 00:00:00</td>\n",
       "      <td>54</td>\n",
       "      <td>Balanced</td>\n",
       "      <td>NaN</td>\n",
       "      <td>Little</td>\n",
       "      <td>51</td>\n",
       "      <td>Mixed</td>\n",
       "      <td>...</td>\n",
       "      <td>50</td>\n",
       "      <td>Normal</td>\n",
       "      <td>Organised</td>\n",
       "      <td>44</td>\n",
       "      <td>Medium</td>\n",
       "      <td>55</td>\n",
       "      <td>Press</td>\n",
       "      <td>53</td>\n",
       "      <td>Normal</td>\n",
       "      <td>Cover</td>\n",
       "    </tr>\n",
       "    <tr>\n",
       "      <th>1455</th>\n",
       "      <td>1456</td>\n",
       "      <td>15005</td>\n",
       "      <td>10000</td>\n",
       "      <td>2013-09-20 00:00:00</td>\n",
       "      <td>54</td>\n",
       "      <td>Balanced</td>\n",
       "      <td>NaN</td>\n",
       "      <td>Little</td>\n",
       "      <td>51</td>\n",
       "      <td>Mixed</td>\n",
       "      <td>...</td>\n",
       "      <td>32</td>\n",
       "      <td>Little</td>\n",
       "      <td>Organised</td>\n",
       "      <td>44</td>\n",
       "      <td>Medium</td>\n",
       "      <td>58</td>\n",
       "      <td>Press</td>\n",
       "      <td>37</td>\n",
       "      <td>Normal</td>\n",
       "      <td>Cover</td>\n",
       "    </tr>\n",
       "    <tr>\n",
       "      <th>1456</th>\n",
       "      <td>1457</td>\n",
       "      <td>15005</td>\n",
       "      <td>10000</td>\n",
       "      <td>2014-09-19 00:00:00</td>\n",
       "      <td>54</td>\n",
       "      <td>Balanced</td>\n",
       "      <td>42.0</td>\n",
       "      <td>Normal</td>\n",
       "      <td>51</td>\n",
       "      <td>Mixed</td>\n",
       "      <td>...</td>\n",
       "      <td>32</td>\n",
       "      <td>Little</td>\n",
       "      <td>Organised</td>\n",
       "      <td>44</td>\n",
       "      <td>Medium</td>\n",
       "      <td>58</td>\n",
       "      <td>Press</td>\n",
       "      <td>37</td>\n",
       "      <td>Normal</td>\n",
       "      <td>Cover</td>\n",
       "    </tr>\n",
       "    <tr>\n",
       "      <th>1457</th>\n",
       "      <td>1458</td>\n",
       "      <td>15005</td>\n",
       "      <td>10000</td>\n",
       "      <td>2015-09-10 00:00:00</td>\n",
       "      <td>54</td>\n",
       "      <td>Balanced</td>\n",
       "      <td>42.0</td>\n",
       "      <td>Normal</td>\n",
       "      <td>51</td>\n",
       "      <td>Mixed</td>\n",
       "      <td>...</td>\n",
       "      <td>32</td>\n",
       "      <td>Little</td>\n",
       "      <td>Organised</td>\n",
       "      <td>44</td>\n",
       "      <td>Medium</td>\n",
       "      <td>58</td>\n",
       "      <td>Press</td>\n",
       "      <td>37</td>\n",
       "      <td>Normal</td>\n",
       "      <td>Cover</td>\n",
       "    </tr>\n",
       "  </tbody>\n",
       "</table>\n",
       "<p>5 rows × 25 columns</p>\n",
       "</div>"
      ],
      "text/plain": [
       "        id  team_fifa_api_id  team_api_id                 date  \\\n",
       "1453  1454             15005        10000  2011-02-22 00:00:00   \n",
       "1454  1455             15005        10000  2012-02-22 00:00:00   \n",
       "1455  1456             15005        10000  2013-09-20 00:00:00   \n",
       "1456  1457             15005        10000  2014-09-19 00:00:00   \n",
       "1457  1458             15005        10000  2015-09-10 00:00:00   \n",
       "\n",
       "      buildUpPlaySpeed buildUpPlaySpeedClass  buildUpPlayDribbling  \\\n",
       "1453                52              Balanced                   NaN   \n",
       "1454                54              Balanced                   NaN   \n",
       "1455                54              Balanced                   NaN   \n",
       "1456                54              Balanced                  42.0   \n",
       "1457                54              Balanced                  42.0   \n",
       "\n",
       "     buildUpPlayDribblingClass  buildUpPlayPassing buildUpPlayPassingClass  \\\n",
       "1453                    Little                  52                   Mixed   \n",
       "1454                    Little                  51                   Mixed   \n",
       "1455                    Little                  51                   Mixed   \n",
       "1456                    Normal                  51                   Mixed   \n",
       "1457                    Normal                  51                   Mixed   \n",
       "\n",
       "      ... chanceCreationShooting  chanceCreationShootingClass  \\\n",
       "1453  ...                     53                       Normal   \n",
       "1454  ...                     50                       Normal   \n",
       "1455  ...                     32                       Little   \n",
       "1456  ...                     32                       Little   \n",
       "1457  ...                     32                       Little   \n",
       "\n",
       "     chanceCreationPositioningClass  defencePressure defencePressureClass  \\\n",
       "1453                      Organised               46               Medium   \n",
       "1454                      Organised               44               Medium   \n",
       "1455                      Organised               44               Medium   \n",
       "1456                      Organised               44               Medium   \n",
       "1457                      Organised               44               Medium   \n",
       "\n",
       "      defenceAggression defenceAggressionClass defenceTeamWidth  \\\n",
       "1453                 48                  Press               53   \n",
       "1454                 55                  Press               53   \n",
       "1455                 58                  Press               37   \n",
       "1456                 58                  Press               37   \n",
       "1457                 58                  Press               37   \n",
       "\n",
       "      defenceTeamWidthClass defenceDefenderLineClass  \n",
       "1453                 Normal                    Cover  \n",
       "1454                 Normal                    Cover  \n",
       "1455                 Normal                    Cover  \n",
       "1456                 Normal                    Cover  \n",
       "1457                 Normal                    Cover  \n",
       "\n",
       "[5 rows x 25 columns]"
      ]
     },
     "execution_count": 66,
     "metadata": {},
     "output_type": "execute_result"
    }
   ],
   "source": [
    "# Team attributes ie, features and playing pattern of the teams in this 11 European leagues\n",
    "team_attributes = pd.read_sql('select * from team_attributes', con)\n",
    "\n",
    "team_attributes.tail()"
   ]
  },
  {
   "cell_type": "code",
   "execution_count": 67,
   "metadata": {},
   "outputs": [
    {
     "name": "stdout",
     "output_type": "stream",
     "text": [
      "<class 'pandas.core.frame.DataFrame'>\n",
      "RangeIndex: 1458 entries, 0 to 1457\n",
      "Data columns (total 25 columns):\n",
      " #   Column                          Non-Null Count  Dtype  \n",
      "---  ------                          --------------  -----  \n",
      " 0   id                              1458 non-null   int64  \n",
      " 1   team_fifa_api_id                1458 non-null   int64  \n",
      " 2   team_api_id                     1458 non-null   int64  \n",
      " 3   date                            1458 non-null   object \n",
      " 4   buildUpPlaySpeed                1458 non-null   int64  \n",
      " 5   buildUpPlaySpeedClass           1458 non-null   object \n",
      " 6   buildUpPlayDribbling            489 non-null    float64\n",
      " 7   buildUpPlayDribblingClass       1458 non-null   object \n",
      " 8   buildUpPlayPassing              1458 non-null   int64  \n",
      " 9   buildUpPlayPassingClass         1458 non-null   object \n",
      " 10  buildUpPlayPositioningClass     1458 non-null   object \n",
      " 11  chanceCreationPassing           1458 non-null   int64  \n",
      " 12  chanceCreationPassingClass      1458 non-null   object \n",
      " 13  chanceCreationCrossing          1458 non-null   int64  \n",
      " 14  chanceCreationCrossingClass     1458 non-null   object \n",
      " 15  chanceCreationShooting          1458 non-null   int64  \n",
      " 16  chanceCreationShootingClass     1458 non-null   object \n",
      " 17  chanceCreationPositioningClass  1458 non-null   object \n",
      " 18  defencePressure                 1458 non-null   int64  \n",
      " 19  defencePressureClass            1458 non-null   object \n",
      " 20  defenceAggression               1458 non-null   int64  \n",
      " 21  defenceAggressionClass          1458 non-null   object \n",
      " 22  defenceTeamWidth                1458 non-null   int64  \n",
      " 23  defenceTeamWidthClass           1458 non-null   object \n",
      " 24  defenceDefenderLineClass        1458 non-null   object \n",
      "dtypes: float64(1), int64(11), object(13)\n",
      "memory usage: 284.9+ KB\n"
     ]
    }
   ],
   "source": [
    "team_attributes.info()"
   ]
  },
  {
   "cell_type": "markdown",
   "metadata": {},
   "source": [
    "Team attributes table contains 1458 rows and 25 columns"
   ]
  },
  {
   "cell_type": "code",
   "execution_count": 68,
   "metadata": {},
   "outputs": [
    {
     "data": {
      "text/plain": [
       "id                                  0\n",
       "team_fifa_api_id                    0\n",
       "team_api_id                         0\n",
       "date                                0\n",
       "buildUpPlaySpeed                    0\n",
       "buildUpPlaySpeedClass               0\n",
       "buildUpPlayDribbling              969\n",
       "buildUpPlayDribblingClass           0\n",
       "buildUpPlayPassing                  0\n",
       "buildUpPlayPassingClass             0\n",
       "buildUpPlayPositioningClass         0\n",
       "chanceCreationPassing               0\n",
       "chanceCreationPassingClass          0\n",
       "chanceCreationCrossing              0\n",
       "chanceCreationCrossingClass         0\n",
       "chanceCreationShooting              0\n",
       "chanceCreationShootingClass         0\n",
       "chanceCreationPositioningClass      0\n",
       "defencePressure                     0\n",
       "defencePressureClass                0\n",
       "defenceAggression                   0\n",
       "defenceAggressionClass              0\n",
       "defenceTeamWidth                    0\n",
       "defenceTeamWidthClass               0\n",
       "defenceDefenderLineClass            0\n",
       "dtype: int64"
      ]
     },
     "execution_count": 68,
     "metadata": {},
     "output_type": "execute_result"
    }
   ],
   "source": [
    "# check for missing values\n",
    "\n",
    "team_attributes.isnull().sum()"
   ]
  },
  {
   "cell_type": "markdown",
   "metadata": {},
   "source": [
    "Team attributes table contain missing values"
   ]
  },
  {
   "cell_type": "code",
   "execution_count": 69,
   "metadata": {},
   "outputs": [],
   "source": [
    "# Convert the tables to Dataframe\n",
    "country = pd.DataFrame(country)\n",
    "team = pd.DataFrame(team)\n",
    "match = pd.DataFrame(team)\n",
    "player = pd.DataFrame(player)\n",
    "league = pd.DataFrame(league)\n",
    "player_attributes = pd.DataFrame(player_attributes)\n",
    "team_attributes = pd.DataFrame(team_attributes)"
   ]
  },
  {
   "cell_type": "code",
   "execution_count": 70,
   "metadata": {},
   "outputs": [
    {
     "data": {
      "text/html": [
       "<div>\n",
       "<style scoped>\n",
       "    .dataframe tbody tr th:only-of-type {\n",
       "        vertical-align: middle;\n",
       "    }\n",
       "\n",
       "    .dataframe tbody tr th {\n",
       "        vertical-align: top;\n",
       "    }\n",
       "\n",
       "    .dataframe thead th {\n",
       "        text-align: right;\n",
       "    }\n",
       "</style>\n",
       "<table border=\"1\" class=\"dataframe\">\n",
       "  <thead>\n",
       "    <tr style=\"text-align: right;\">\n",
       "      <th></th>\n",
       "      <th>id</th>\n",
       "      <th>team_api_id</th>\n",
       "      <th>team_fifa_api_id</th>\n",
       "      <th>team_long_name</th>\n",
       "      <th>team_short_name</th>\n",
       "      <th>id</th>\n",
       "      <th>country_id</th>\n",
       "      <th>league_id</th>\n",
       "      <th>season</th>\n",
       "      <th>stage</th>\n",
       "      <th>...</th>\n",
       "      <th>SJA</th>\n",
       "      <th>VCH</th>\n",
       "      <th>VCD</th>\n",
       "      <th>VCA</th>\n",
       "      <th>GBH</th>\n",
       "      <th>GBD</th>\n",
       "      <th>GBA</th>\n",
       "      <th>BSH</th>\n",
       "      <th>BSD</th>\n",
       "      <th>BSA</th>\n",
       "    </tr>\n",
       "  </thead>\n",
       "  <tbody>\n",
       "    <tr>\n",
       "      <th>0</th>\n",
       "      <td>1</td>\n",
       "      <td>9987</td>\n",
       "      <td>673.0</td>\n",
       "      <td>KRC Genk</td>\n",
       "      <td>GEN</td>\n",
       "      <td>1</td>\n",
       "      <td>1</td>\n",
       "      <td>1</td>\n",
       "      <td>2008/2009</td>\n",
       "      <td>1</td>\n",
       "      <td>...</td>\n",
       "      <td>4.00</td>\n",
       "      <td>1.65</td>\n",
       "      <td>3.40</td>\n",
       "      <td>4.50</td>\n",
       "      <td>1.78</td>\n",
       "      <td>3.25</td>\n",
       "      <td>4.00</td>\n",
       "      <td>1.73</td>\n",
       "      <td>3.4</td>\n",
       "      <td>4.2</td>\n",
       "    </tr>\n",
       "    <tr>\n",
       "      <th>1</th>\n",
       "      <td>1</td>\n",
       "      <td>9987</td>\n",
       "      <td>673.0</td>\n",
       "      <td>KRC Genk</td>\n",
       "      <td>GEN</td>\n",
       "      <td>200</td>\n",
       "      <td>1</td>\n",
       "      <td>1</td>\n",
       "      <td>2008/2009</td>\n",
       "      <td>3</td>\n",
       "      <td>...</td>\n",
       "      <td>5.00</td>\n",
       "      <td>1.60</td>\n",
       "      <td>3.40</td>\n",
       "      <td>5.00</td>\n",
       "      <td>1.65</td>\n",
       "      <td>3.40</td>\n",
       "      <td>4.60</td>\n",
       "      <td>1.67</td>\n",
       "      <td>3.4</td>\n",
       "      <td>4.5</td>\n",
       "    </tr>\n",
       "    <tr>\n",
       "      <th>2</th>\n",
       "      <td>1</td>\n",
       "      <td>9987</td>\n",
       "      <td>673.0</td>\n",
       "      <td>KRC Genk</td>\n",
       "      <td>GEN</td>\n",
       "      <td>263</td>\n",
       "      <td>1</td>\n",
       "      <td>1</td>\n",
       "      <td>2008/2009</td>\n",
       "      <td>5</td>\n",
       "      <td>...</td>\n",
       "      <td>2.63</td>\n",
       "      <td>2.50</td>\n",
       "      <td>3.25</td>\n",
       "      <td>2.50</td>\n",
       "      <td>2.50</td>\n",
       "      <td>3.20</td>\n",
       "      <td>2.50</td>\n",
       "      <td>2.40</td>\n",
       "      <td>3.2</td>\n",
       "      <td>2.6</td>\n",
       "    </tr>\n",
       "    <tr>\n",
       "      <th>3</th>\n",
       "      <td>1</td>\n",
       "      <td>9987</td>\n",
       "      <td>673.0</td>\n",
       "      <td>KRC Genk</td>\n",
       "      <td>GEN</td>\n",
       "      <td>281</td>\n",
       "      <td>1</td>\n",
       "      <td>1</td>\n",
       "      <td>2008/2009</td>\n",
       "      <td>7</td>\n",
       "      <td>...</td>\n",
       "      <td>7.50</td>\n",
       "      <td>1.40</td>\n",
       "      <td>4.00</td>\n",
       "      <td>7.00</td>\n",
       "      <td>1.45</td>\n",
       "      <td>4.00</td>\n",
       "      <td>6.50</td>\n",
       "      <td>1.50</td>\n",
       "      <td>3.6</td>\n",
       "      <td>6.5</td>\n",
       "    </tr>\n",
       "    <tr>\n",
       "      <th>4</th>\n",
       "      <td>1</td>\n",
       "      <td>9987</td>\n",
       "      <td>673.0</td>\n",
       "      <td>KRC Genk</td>\n",
       "      <td>GEN</td>\n",
       "      <td>299</td>\n",
       "      <td>1</td>\n",
       "      <td>1</td>\n",
       "      <td>2008/2009</td>\n",
       "      <td>9</td>\n",
       "      <td>...</td>\n",
       "      <td>2.40</td>\n",
       "      <td>2.75</td>\n",
       "      <td>3.25</td>\n",
       "      <td>2.25</td>\n",
       "      <td>2.60</td>\n",
       "      <td>3.25</td>\n",
       "      <td>2.45</td>\n",
       "      <td>2.75</td>\n",
       "      <td>3.2</td>\n",
       "      <td>2.3</td>\n",
       "    </tr>\n",
       "  </tbody>\n",
       "</table>\n",
       "<p>5 rows × 120 columns</p>\n",
       "</div>"
      ],
      "text/plain": [
       "   id  team_api_id  team_fifa_api_id team_long_name team_short_name   id  \\\n",
       "0   1         9987             673.0       KRC Genk             GEN    1   \n",
       "1   1         9987             673.0       KRC Genk             GEN  200   \n",
       "2   1         9987             673.0       KRC Genk             GEN  263   \n",
       "3   1         9987             673.0       KRC Genk             GEN  281   \n",
       "4   1         9987             673.0       KRC Genk             GEN  299   \n",
       "\n",
       "   country_id  league_id     season  stage  ...   SJA   VCH   VCD   VCA   GBH  \\\n",
       "0           1          1  2008/2009      1  ...  4.00  1.65  3.40  4.50  1.78   \n",
       "1           1          1  2008/2009      3  ...  5.00  1.60  3.40  5.00  1.65   \n",
       "2           1          1  2008/2009      5  ...  2.63  2.50  3.25  2.50  2.50   \n",
       "3           1          1  2008/2009      7  ...  7.50  1.40  4.00  7.00  1.45   \n",
       "4           1          1  2008/2009      9  ...  2.40  2.75  3.25  2.25  2.60   \n",
       "\n",
       "    GBD   GBA   BSH  BSD  BSA  \n",
       "0  3.25  4.00  1.73  3.4  4.2  \n",
       "1  3.40  4.60  1.67  3.4  4.5  \n",
       "2  3.20  2.50  2.40  3.2  2.6  \n",
       "3  4.00  6.50  1.50  3.6  6.5  \n",
       "4  3.25  2.45  2.75  3.2  2.3  \n",
       "\n",
       "[5 rows x 120 columns]"
      ]
     },
     "execution_count": 70,
     "metadata": {},
     "output_type": "execute_result"
    }
   ],
   "source": [
    "# Merge the Team table with Match table\n",
    "\n",
    "table = pd.read_sql(\"\"\"SELECT * FROM team \n",
    "            LEFT JOIN match\n",
    "            on team.team_api_id = match.home_team_api_id\"\"\", con)\n",
    "\n",
    "table.head()"
   ]
  },
  {
   "cell_type": "markdown",
   "metadata": {},
   "source": [
    "# Exploratory Data Analysis\n",
    "\n",
    "We will collect features necessary for analysis from the database, store it in a dataframe and then merge it into a single dataframe"
   ]
  },
  {
   "cell_type": "code",
   "execution_count": 71,
   "metadata": {},
   "outputs": [],
   "source": [
    "# Collect match datatable that includes only Matches results for the Home Team\n",
    "\n",
    "hometeam_data = \"\"\"SELECT C.name AS 'country',\n",
    "                                L.name AS 'league', \n",
    "                                HT.team_long_name AS 'team', \n",
    "                                M.season AS 'season', \n",
    "                                M.home_team_goal AS 'goals_for', \n",
    "                                M.away_team_goal AS 'goals_against' \n",
    "                         FROM Country AS C, League AS L, Match AS M, Team AS HT \n",
    "                         ON C.id = L.country_id \n",
    "                         AND L.id = M.league_id \n",
    "                         AND HT.team_api_id = M.home_team_api_id \n",
    "                         ORDER BY country, league, team, season;\"\"\"\n",
    "df_hometeam = pd.read_sql(hometeam_data, con)"
   ]
  },
  {
   "cell_type": "code",
   "execution_count": 72,
   "metadata": {},
   "outputs": [],
   "source": [
    "# Collect match datatable that includes only Matches results for the Away Team\n",
    "\n",
    "awayteam_data = \"\"\"SELECT C.name AS 'country', \n",
    "                                L.name AS 'league', \n",
    "                                HT.team_long_name AS 'team', \n",
    "                                M.season AS 'season', \n",
    "                                M.away_team_goal AS 'goals_for', \n",
    "                                M.home_team_goal AS 'goals_against' \n",
    "                         FROM Country AS C, League AS L, Match AS M, Team AS HT \n",
    "                         ON C.id = L.country_id \n",
    "                         AND L.id = M.league_id \n",
    "                         AND HT.team_api_id = M.away_team_api_id \n",
    "                         ORDER BY country, league, team, season;\"\"\"\n",
    "df_awayteam = pd.read_sql(awayteam_data, con)"
   ]
  },
  {
   "cell_type": "code",
   "execution_count": 73,
   "metadata": {},
   "outputs": [
    {
     "data": {
      "text/html": [
       "<div>\n",
       "<style scoped>\n",
       "    .dataframe tbody tr th:only-of-type {\n",
       "        vertical-align: middle;\n",
       "    }\n",
       "\n",
       "    .dataframe tbody tr th {\n",
       "        vertical-align: top;\n",
       "    }\n",
       "\n",
       "    .dataframe thead th {\n",
       "        text-align: right;\n",
       "    }\n",
       "</style>\n",
       "<table border=\"1\" class=\"dataframe\">\n",
       "  <thead>\n",
       "    <tr style=\"text-align: right;\">\n",
       "      <th></th>\n",
       "      <th>country</th>\n",
       "      <th>league</th>\n",
       "      <th>team</th>\n",
       "      <th>season</th>\n",
       "      <th>goals_for</th>\n",
       "      <th>goals_against</th>\n",
       "    </tr>\n",
       "  </thead>\n",
       "  <tbody>\n",
       "    <tr>\n",
       "      <th>0</th>\n",
       "      <td>Belgium</td>\n",
       "      <td>Belgium Jupiler League</td>\n",
       "      <td>Beerschot AC</td>\n",
       "      <td>2008/2009</td>\n",
       "      <td>1</td>\n",
       "      <td>3</td>\n",
       "    </tr>\n",
       "    <tr>\n",
       "      <th>1</th>\n",
       "      <td>Belgium</td>\n",
       "      <td>Belgium Jupiler League</td>\n",
       "      <td>Beerschot AC</td>\n",
       "      <td>2008/2009</td>\n",
       "      <td>1</td>\n",
       "      <td>3</td>\n",
       "    </tr>\n",
       "    <tr>\n",
       "      <th>2</th>\n",
       "      <td>Belgium</td>\n",
       "      <td>Belgium Jupiler League</td>\n",
       "      <td>Beerschot AC</td>\n",
       "      <td>2008/2009</td>\n",
       "      <td>0</td>\n",
       "      <td>2</td>\n",
       "    </tr>\n",
       "    <tr>\n",
       "      <th>3</th>\n",
       "      <td>Belgium</td>\n",
       "      <td>Belgium Jupiler League</td>\n",
       "      <td>Beerschot AC</td>\n",
       "      <td>2008/2009</td>\n",
       "      <td>3</td>\n",
       "      <td>0</td>\n",
       "    </tr>\n",
       "    <tr>\n",
       "      <th>4</th>\n",
       "      <td>Belgium</td>\n",
       "      <td>Belgium Jupiler League</td>\n",
       "      <td>Beerschot AC</td>\n",
       "      <td>2008/2009</td>\n",
       "      <td>2</td>\n",
       "      <td>0</td>\n",
       "    </tr>\n",
       "  </tbody>\n",
       "</table>\n",
       "</div>"
      ],
      "text/plain": [
       "   country                  league          team     season  goals_for  \\\n",
       "0  Belgium  Belgium Jupiler League  Beerschot AC  2008/2009          1   \n",
       "1  Belgium  Belgium Jupiler League  Beerschot AC  2008/2009          1   \n",
       "2  Belgium  Belgium Jupiler League  Beerschot AC  2008/2009          0   \n",
       "3  Belgium  Belgium Jupiler League  Beerschot AC  2008/2009          3   \n",
       "4  Belgium  Belgium Jupiler League  Beerschot AC  2008/2009          2   \n",
       "\n",
       "   goals_against  \n",
       "0              3  \n",
       "1              3  \n",
       "2              2  \n",
       "3              0  \n",
       "4              0  "
      ]
     },
     "execution_count": 73,
     "metadata": {},
     "output_type": "execute_result"
    }
   ],
   "source": [
    "# Merge Home team and Away team tables\n",
    "\n",
    "df_match = pd.concat([df_hometeam, df_awayteam], ignore_index=True)\n",
    "\n",
    "df_match.head()"
   ]
  },
  {
   "cell_type": "code",
   "execution_count": 74,
   "metadata": {},
   "outputs": [
    {
     "name": "stdout",
     "output_type": "stream",
     "text": [
      "<class 'pandas.core.frame.DataFrame'>\n",
      "RangeIndex: 51958 entries, 0 to 51957\n",
      "Data columns (total 6 columns):\n",
      " #   Column         Non-Null Count  Dtype \n",
      "---  ------         --------------  ----- \n",
      " 0   country        51958 non-null  object\n",
      " 1   league         51958 non-null  object\n",
      " 2   team           51958 non-null  object\n",
      " 3   season         51958 non-null  object\n",
      " 4   goals_for      51958 non-null  int64 \n",
      " 5   goals_against  51958 non-null  int64 \n",
      "dtypes: int64(2), object(4)\n",
      "memory usage: 2.4+ MB\n"
     ]
    }
   ],
   "source": [
    "df_match.info()"
   ]
  },
  {
   "cell_type": "code",
   "execution_count": 75,
   "metadata": {},
   "outputs": [],
   "source": [
    "# Generate new features: Matches, won, draw, goal difference, lost, goals for, goals against\n",
    "\n",
    "df_match['played'] = np.repeat(1, len(df_match), axis=0)"
   ]
  },
  {
   "cell_type": "code",
   "execution_count": 76,
   "metadata": {},
   "outputs": [],
   "source": [
    "df_match['won'] = (df_match['goals_for'].gt(df_match['goals_against'])).mul(1)\n",
    "df_match['drawn'] = (df_match['goals_for'].eq(df_match['goals_against'])).mul(1)\n",
    "df_match['lost'] = (df_match['goals_for'].lt(df_match['goals_against'])).mul(1)"
   ]
  },
  {
   "cell_type": "code",
   "execution_count": 77,
   "metadata": {},
   "outputs": [],
   "source": [
    "df_match['goal_difference'] = df_match['goals_for'].subtract(df_match['goals_against'])"
   ]
  },
  {
   "cell_type": "code",
   "execution_count": 78,
   "metadata": {},
   "outputs": [],
   "source": [
    "df_match['points'] = (df_match['won'].mul(3)).add(df_match['drawn'])"
   ]
  },
  {
   "cell_type": "code",
   "execution_count": 79,
   "metadata": {},
   "outputs": [],
   "source": [
    "# Re-arrange the Dataframe Columns\n",
    "df_match = df_match.reindex(columns=['country', \n",
    "                                     'league', \n",
    "                                     'team', \n",
    "                                     'season', \n",
    "                                     'played', \n",
    "                                     'won', \n",
    "                                     'drawn', \n",
    "                                     'lost', \n",
    "                                     'goals_for', \n",
    "                                     'goals_against', \n",
    "                                     'goal_difference', \n",
    "                                     'points'])"
   ]
  },
  {
   "cell_type": "code",
   "execution_count": 80,
   "metadata": {},
   "outputs": [
    {
     "data": {
      "text/html": [
       "<div>\n",
       "<style scoped>\n",
       "    .dataframe tbody tr th:only-of-type {\n",
       "        vertical-align: middle;\n",
       "    }\n",
       "\n",
       "    .dataframe tbody tr th {\n",
       "        vertical-align: top;\n",
       "    }\n",
       "\n",
       "    .dataframe thead th {\n",
       "        text-align: right;\n",
       "    }\n",
       "</style>\n",
       "<table border=\"1\" class=\"dataframe\">\n",
       "  <thead>\n",
       "    <tr style=\"text-align: right;\">\n",
       "      <th></th>\n",
       "      <th>country</th>\n",
       "      <th>league</th>\n",
       "      <th>team</th>\n",
       "      <th>season</th>\n",
       "      <th>played</th>\n",
       "      <th>won</th>\n",
       "      <th>drawn</th>\n",
       "      <th>lost</th>\n",
       "      <th>goals_for</th>\n",
       "      <th>goals_against</th>\n",
       "      <th>goal_difference</th>\n",
       "      <th>points</th>\n",
       "    </tr>\n",
       "  </thead>\n",
       "  <tbody>\n",
       "    <tr>\n",
       "      <th>0</th>\n",
       "      <td>Belgium</td>\n",
       "      <td>Belgium Jupiler League</td>\n",
       "      <td>Beerschot AC</td>\n",
       "      <td>2008/2009</td>\n",
       "      <td>34</td>\n",
       "      <td>11</td>\n",
       "      <td>9</td>\n",
       "      <td>14</td>\n",
       "      <td>44</td>\n",
       "      <td>42</td>\n",
       "      <td>2</td>\n",
       "      <td>42</td>\n",
       "    </tr>\n",
       "    <tr>\n",
       "      <th>1</th>\n",
       "      <td>Belgium</td>\n",
       "      <td>Belgium Jupiler League</td>\n",
       "      <td>Beerschot AC</td>\n",
       "      <td>2009/2010</td>\n",
       "      <td>28</td>\n",
       "      <td>9</td>\n",
       "      <td>8</td>\n",
       "      <td>11</td>\n",
       "      <td>30</td>\n",
       "      <td>43</td>\n",
       "      <td>-13</td>\n",
       "      <td>35</td>\n",
       "    </tr>\n",
       "    <tr>\n",
       "      <th>2</th>\n",
       "      <td>Belgium</td>\n",
       "      <td>Belgium Jupiler League</td>\n",
       "      <td>Beerschot AC</td>\n",
       "      <td>2010/2011</td>\n",
       "      <td>30</td>\n",
       "      <td>5</td>\n",
       "      <td>11</td>\n",
       "      <td>14</td>\n",
       "      <td>24</td>\n",
       "      <td>40</td>\n",
       "      <td>-16</td>\n",
       "      <td>26</td>\n",
       "    </tr>\n",
       "    <tr>\n",
       "      <th>3</th>\n",
       "      <td>Belgium</td>\n",
       "      <td>Belgium Jupiler League</td>\n",
       "      <td>Beerschot AC</td>\n",
       "      <td>2011/2012</td>\n",
       "      <td>30</td>\n",
       "      <td>9</td>\n",
       "      <td>9</td>\n",
       "      <td>12</td>\n",
       "      <td>45</td>\n",
       "      <td>51</td>\n",
       "      <td>-6</td>\n",
       "      <td>36</td>\n",
       "    </tr>\n",
       "    <tr>\n",
       "      <th>4</th>\n",
       "      <td>Belgium</td>\n",
       "      <td>Belgium Jupiler League</td>\n",
       "      <td>Beerschot AC</td>\n",
       "      <td>2012/2013</td>\n",
       "      <td>30</td>\n",
       "      <td>6</td>\n",
       "      <td>5</td>\n",
       "      <td>19</td>\n",
       "      <td>31</td>\n",
       "      <td>61</td>\n",
       "      <td>-30</td>\n",
       "      <td>23</td>\n",
       "    </tr>\n",
       "  </tbody>\n",
       "</table>\n",
       "</div>"
      ],
      "text/plain": [
       "   country                  league          team     season  played  won  \\\n",
       "0  Belgium  Belgium Jupiler League  Beerschot AC  2008/2009      34   11   \n",
       "1  Belgium  Belgium Jupiler League  Beerschot AC  2009/2010      28    9   \n",
       "2  Belgium  Belgium Jupiler League  Beerschot AC  2010/2011      30    5   \n",
       "3  Belgium  Belgium Jupiler League  Beerschot AC  2011/2012      30    9   \n",
       "4  Belgium  Belgium Jupiler League  Beerschot AC  2012/2013      30    6   \n",
       "\n",
       "   drawn  lost  goals_for  goals_against  goal_difference  points  \n",
       "0      9    14         44             42                2      42  \n",
       "1      8    11         30             43              -13      35  \n",
       "2     11    14         24             40              -16      26  \n",
       "3      9    12         45             51               -6      36  \n",
       "4      5    19         31             61              -30      23  "
      ]
     },
     "execution_count": 80,
     "metadata": {},
     "output_type": "execute_result"
    }
   ],
   "source": [
    "df_match = df_match.groupby(['country', 'league', 'team', 'season']).sum().reset_index()\n",
    "\n",
    "df_match.head()"
   ]
  },
  {
   "cell_type": "code",
   "execution_count": 81,
   "metadata": {},
   "outputs": [
    {
     "name": "stdout",
     "output_type": "stream",
     "text": [
      "<class 'pandas.core.frame.DataFrame'>\n",
      "RangeIndex: 1478 entries, 0 to 1477\n",
      "Data columns (total 12 columns):\n",
      " #   Column           Non-Null Count  Dtype \n",
      "---  ------           --------------  ----- \n",
      " 0   country          1478 non-null   object\n",
      " 1   league           1478 non-null   object\n",
      " 2   team             1478 non-null   object\n",
      " 3   season           1478 non-null   object\n",
      " 4   played           1478 non-null   int32 \n",
      " 5   won              1478 non-null   int32 \n",
      " 6   drawn            1478 non-null   int32 \n",
      " 7   lost             1478 non-null   int32 \n",
      " 8   goals_for        1478 non-null   int64 \n",
      " 9   goals_against    1478 non-null   int64 \n",
      " 10  goal_difference  1478 non-null   int64 \n",
      " 11  points           1478 non-null   int32 \n",
      "dtypes: int32(5), int64(3), object(4)\n",
      "memory usage: 109.8+ KB\n"
     ]
    }
   ],
   "source": [
    "df_match.info()"
   ]
  },
  {
   "cell_type": "code",
   "execution_count": 82,
   "metadata": {},
   "outputs": [
    {
     "data": {
      "text/plain": [
       "country             11\n",
       "league              11\n",
       "team               296\n",
       "season               8\n",
       "played              10\n",
       "won                 33\n",
       "drawn               21\n",
       "lost                31\n",
       "goals_for           94\n",
       "goals_against       78\n",
       "goal_difference    131\n",
       "points              87\n",
       "dtype: int64"
      ]
     },
     "execution_count": 82,
     "metadata": {},
     "output_type": "execute_result"
    }
   ],
   "source": [
    "df_match.nunique()"
   ]
  },
  {
   "cell_type": "code",
   "execution_count": 83,
   "metadata": {},
   "outputs": [],
   "source": [
    "penalties = \"\"\"SELECT P.player_name, PA.date, PA.penalties \n",
    "                          FROM Player AS P, Player_Attributes AS PA \n",
    "                          ON P.player_api_id = PA.player_api_id \n",
    "                          ORDER BY penalties DESC;\"\"\"\n",
    "df_penalties = pd.read_sql(penalties, con) "
   ]
  },
  {
   "cell_type": "code",
   "execution_count": 84,
   "metadata": {},
   "outputs": [
    {
     "data": {
      "text/html": [
       "<div>\n",
       "<style scoped>\n",
       "    .dataframe tbody tr th:only-of-type {\n",
       "        vertical-align: middle;\n",
       "    }\n",
       "\n",
       "    .dataframe tbody tr th {\n",
       "        vertical-align: top;\n",
       "    }\n",
       "\n",
       "    .dataframe thead th {\n",
       "        text-align: right;\n",
       "    }\n",
       "</style>\n",
       "<table border=\"1\" class=\"dataframe\">\n",
       "  <thead>\n",
       "    <tr style=\"text-align: right;\">\n",
       "      <th></th>\n",
       "      <th>player_name</th>\n",
       "      <th>date</th>\n",
       "      <th>penalties</th>\n",
       "    </tr>\n",
       "  </thead>\n",
       "  <tbody>\n",
       "    <tr>\n",
       "      <th>0</th>\n",
       "      <td>Rickie Lambert</td>\n",
       "      <td>2016-03-10 00:00:00</td>\n",
       "      <td>96.0</td>\n",
       "    </tr>\n",
       "    <tr>\n",
       "      <th>1</th>\n",
       "      <td>Rickie Lambert</td>\n",
       "      <td>2015-12-24 00:00:00</td>\n",
       "      <td>96.0</td>\n",
       "    </tr>\n",
       "    <tr>\n",
       "      <th>2</th>\n",
       "      <td>Rickie Lambert</td>\n",
       "      <td>2015-10-23 00:00:00</td>\n",
       "      <td>96.0</td>\n",
       "    </tr>\n",
       "    <tr>\n",
       "      <th>3</th>\n",
       "      <td>Rickie Lambert</td>\n",
       "      <td>2015-09-21 00:00:00</td>\n",
       "      <td>96.0</td>\n",
       "    </tr>\n",
       "    <tr>\n",
       "      <th>4</th>\n",
       "      <td>Andrea Pirlo</td>\n",
       "      <td>2009-02-22 00:00:00</td>\n",
       "      <td>95.0</td>\n",
       "    </tr>\n",
       "  </tbody>\n",
       "</table>\n",
       "</div>"
      ],
      "text/plain": [
       "      player_name                 date  penalties\n",
       "0  Rickie Lambert  2016-03-10 00:00:00       96.0\n",
       "1  Rickie Lambert  2015-12-24 00:00:00       96.0\n",
       "2  Rickie Lambert  2015-10-23 00:00:00       96.0\n",
       "3  Rickie Lambert  2015-09-21 00:00:00       96.0\n",
       "4    Andrea Pirlo  2009-02-22 00:00:00       95.0"
      ]
     },
     "execution_count": 84,
     "metadata": {},
     "output_type": "execute_result"
    }
   ],
   "source": [
    "df_penalties.head()"
   ]
  },
  {
   "cell_type": "code",
   "execution_count": 85,
   "metadata": {},
   "outputs": [
    {
     "name": "stdout",
     "output_type": "stream",
     "text": [
      "<class 'pandas.core.frame.DataFrame'>\n",
      "RangeIndex: 183978 entries, 0 to 183977\n",
      "Data columns (total 3 columns):\n",
      " #   Column       Non-Null Count   Dtype  \n",
      "---  ------       --------------   -----  \n",
      " 0   player_name  183978 non-null  object \n",
      " 1   date         183978 non-null  object \n",
      " 2   penalties    183142 non-null  float64\n",
      "dtypes: float64(1), object(2)\n",
      "memory usage: 4.2+ MB\n"
     ]
    }
   ],
   "source": [
    "df_penalties.info()"
   ]
  },
  {
   "cell_type": "code",
   "execution_count": 86,
   "metadata": {},
   "outputs": [
    {
     "data": {
      "text/plain": [
       "player_name      0\n",
       "date             0\n",
       "penalties      836\n",
       "dtype: int64"
      ]
     },
     "execution_count": 86,
     "metadata": {},
     "output_type": "execute_result"
    }
   ],
   "source": [
    "# Check for null values\n",
    "df_penalties.isnull().sum()"
   ]
  },
  {
   "cell_type": "code",
   "execution_count": 87,
   "metadata": {},
   "outputs": [
    {
     "data": {
      "text/plain": [
       "player_name    10848\n",
       "date             197\n",
       "penalties         94\n",
       "dtype: int64"
      ]
     },
     "execution_count": 87,
     "metadata": {},
     "output_type": "execute_result"
    }
   ],
   "source": [
    "df_penalties.nunique()"
   ]
  },
  {
   "cell_type": "code",
   "execution_count": 88,
   "metadata": {},
   "outputs": [],
   "source": [
    "# drop null values \n",
    "df_penalties.dropna(inplace=True)"
   ]
  },
  {
   "cell_type": "code",
   "execution_count": 89,
   "metadata": {},
   "outputs": [
    {
     "data": {
      "text/plain": [
       "player_name    0\n",
       "date           0\n",
       "penalties      0\n",
       "dtype: int64"
      ]
     },
     "execution_count": 89,
     "metadata": {},
     "output_type": "execute_result"
    }
   ],
   "source": [
    "df_penalties.isnull().sum()"
   ]
  },
  {
   "cell_type": "code",
   "execution_count": 90,
   "metadata": {},
   "outputs": [],
   "source": [
    "# Convert Penalty column to Integer\n",
    "\n",
    "df_penalties['penalties'] = pd.to_numeric(df_penalties['penalties'], downcast='integer')"
   ]
  },
  {
   "cell_type": "code",
   "execution_count": 91,
   "metadata": {},
   "outputs": [],
   "source": [
    "# Convert the date column into datetime without hours runtime\n",
    "df_penalties['date'] = pd.to_datetime(df_penalties['date']).dt.date"
   ]
  },
  {
   "cell_type": "code",
   "execution_count": 92,
   "metadata": {},
   "outputs": [
    {
     "data": {
      "text/html": [
       "<div>\n",
       "<style scoped>\n",
       "    .dataframe tbody tr th:only-of-type {\n",
       "        vertical-align: middle;\n",
       "    }\n",
       "\n",
       "    .dataframe tbody tr th {\n",
       "        vertical-align: top;\n",
       "    }\n",
       "\n",
       "    .dataframe thead th {\n",
       "        text-align: right;\n",
       "    }\n",
       "</style>\n",
       "<table border=\"1\" class=\"dataframe\">\n",
       "  <thead>\n",
       "    <tr style=\"text-align: right;\">\n",
       "      <th></th>\n",
       "      <th>player_name</th>\n",
       "      <th>date</th>\n",
       "      <th>penalties</th>\n",
       "    </tr>\n",
       "  </thead>\n",
       "  <tbody>\n",
       "    <tr>\n",
       "      <th>0</th>\n",
       "      <td>Rickie Lambert</td>\n",
       "      <td>2016-03-10</td>\n",
       "      <td>96</td>\n",
       "    </tr>\n",
       "    <tr>\n",
       "      <th>1</th>\n",
       "      <td>Rickie Lambert</td>\n",
       "      <td>2015-12-24</td>\n",
       "      <td>96</td>\n",
       "    </tr>\n",
       "    <tr>\n",
       "      <th>2</th>\n",
       "      <td>Rickie Lambert</td>\n",
       "      <td>2015-10-23</td>\n",
       "      <td>96</td>\n",
       "    </tr>\n",
       "    <tr>\n",
       "      <th>3</th>\n",
       "      <td>Rickie Lambert</td>\n",
       "      <td>2015-09-21</td>\n",
       "      <td>96</td>\n",
       "    </tr>\n",
       "    <tr>\n",
       "      <th>4</th>\n",
       "      <td>Andrea Pirlo</td>\n",
       "      <td>2009-02-22</td>\n",
       "      <td>95</td>\n",
       "    </tr>\n",
       "  </tbody>\n",
       "</table>\n",
       "</div>"
      ],
      "text/plain": [
       "      player_name        date  penalties\n",
       "0  Rickie Lambert  2016-03-10         96\n",
       "1  Rickie Lambert  2015-12-24         96\n",
       "2  Rickie Lambert  2015-10-23         96\n",
       "3  Rickie Lambert  2015-09-21         96\n",
       "4    Andrea Pirlo  2009-02-22         95"
      ]
     },
     "execution_count": 92,
     "metadata": {},
     "output_type": "execute_result"
    }
   ],
   "source": [
    "df_penalties.head()"
   ]
  },
  {
   "cell_type": "code",
   "execution_count": 93,
   "metadata": {},
   "outputs": [
    {
     "name": "stdout",
     "output_type": "stream",
     "text": [
      "<class 'pandas.core.frame.DataFrame'>\n",
      "Int64Index: 183142 entries, 0 to 183141\n",
      "Data columns (total 3 columns):\n",
      " #   Column       Non-Null Count   Dtype \n",
      "---  ------       --------------   ----- \n",
      " 0   player_name  183142 non-null  object\n",
      " 1   date         183142 non-null  object\n",
      " 2   penalties    183142 non-null  int8  \n",
      "dtypes: int8(1), object(2)\n",
      "memory usage: 4.4+ MB\n"
     ]
    }
   ],
   "source": [
    "df_penalties.info()"
   ]
  },
  {
   "cell_type": "code",
   "execution_count": 94,
   "metadata": {},
   "outputs": [],
   "source": [
    "# Max penalties record per player\n",
    "max_df_penalties = df_penalties.groupby(['player_name'], as_index=False)['penalties'].max()"
   ]
  },
  {
   "cell_type": "code",
   "execution_count": 95,
   "metadata": {},
   "outputs": [],
   "source": [
    "max_df_penalties = max_df_penalties.merge(df_penalties, how='left', on=['player_name', 'penalties']\n",
    "                                         ).groupby(['player_name', 'penalties'], as_index=False)['date'].max()"
   ]
  },
  {
   "cell_type": "code",
   "execution_count": 96,
   "metadata": {},
   "outputs": [],
   "source": [
    "max_df_penalties.sort_values('penalties', ascending=False, ignore_index=True, inplace=True)"
   ]
  },
  {
   "cell_type": "code",
   "execution_count": 97,
   "metadata": {},
   "outputs": [
    {
     "data": {
      "text/html": [
       "<div>\n",
       "<style scoped>\n",
       "    .dataframe tbody tr th:only-of-type {\n",
       "        vertical-align: middle;\n",
       "    }\n",
       "\n",
       "    .dataframe tbody tr th {\n",
       "        vertical-align: top;\n",
       "    }\n",
       "\n",
       "    .dataframe thead th {\n",
       "        text-align: right;\n",
       "    }\n",
       "</style>\n",
       "<table border=\"1\" class=\"dataframe\">\n",
       "  <thead>\n",
       "    <tr style=\"text-align: right;\">\n",
       "      <th></th>\n",
       "      <th>player_name</th>\n",
       "      <th>penalties</th>\n",
       "      <th>date</th>\n",
       "    </tr>\n",
       "  </thead>\n",
       "  <tbody>\n",
       "    <tr>\n",
       "      <th>0</th>\n",
       "      <td>Rickie Lambert</td>\n",
       "      <td>96</td>\n",
       "      <td>2016-03-10</td>\n",
       "    </tr>\n",
       "    <tr>\n",
       "      <th>1</th>\n",
       "      <td>Andrea Pirlo</td>\n",
       "      <td>95</td>\n",
       "      <td>2009-02-22</td>\n",
       "    </tr>\n",
       "    <tr>\n",
       "      <th>2</th>\n",
       "      <td>Xavi Hernandez</td>\n",
       "      <td>95</td>\n",
       "      <td>2010-02-22</td>\n",
       "    </tr>\n",
       "    <tr>\n",
       "      <th>3</th>\n",
       "      <td>Mario Balotelli</td>\n",
       "      <td>95</td>\n",
       "      <td>2014-01-24</td>\n",
       "    </tr>\n",
       "    <tr>\n",
       "      <th>4</th>\n",
       "      <td>Paul Scholes</td>\n",
       "      <td>95</td>\n",
       "      <td>2010-02-22</td>\n",
       "    </tr>\n",
       "  </tbody>\n",
       "</table>\n",
       "</div>"
      ],
      "text/plain": [
       "       player_name  penalties        date\n",
       "0   Rickie Lambert         96  2016-03-10\n",
       "1     Andrea Pirlo         95  2009-02-22\n",
       "2   Xavi Hernandez         95  2010-02-22\n",
       "3  Mario Balotelli         95  2014-01-24\n",
       "4     Paul Scholes         95  2010-02-22"
      ]
     },
     "execution_count": 97,
     "metadata": {},
     "output_type": "execute_result"
    }
   ],
   "source": [
    "max_df_penalties.head()"
   ]
  },
  {
   "cell_type": "code",
   "execution_count": 98,
   "metadata": {},
   "outputs": [
    {
     "data": {
      "text/html": [
       "<div>\n",
       "<style scoped>\n",
       "    .dataframe tbody tr th:only-of-type {\n",
       "        vertical-align: middle;\n",
       "    }\n",
       "\n",
       "    .dataframe tbody tr th {\n",
       "        vertical-align: top;\n",
       "    }\n",
       "\n",
       "    .dataframe thead th {\n",
       "        text-align: right;\n",
       "    }\n",
       "</style>\n",
       "<table border=\"1\" class=\"dataframe\">\n",
       "  <thead>\n",
       "    <tr style=\"text-align: right;\">\n",
       "      <th></th>\n",
       "      <th>penalties</th>\n",
       "    </tr>\n",
       "  </thead>\n",
       "  <tbody>\n",
       "    <tr>\n",
       "      <th>count</th>\n",
       "      <td>10848.000000</td>\n",
       "    </tr>\n",
       "    <tr>\n",
       "      <th>mean</th>\n",
       "      <td>60.392054</td>\n",
       "    </tr>\n",
       "    <tr>\n",
       "      <th>std</th>\n",
       "      <td>14.657931</td>\n",
       "    </tr>\n",
       "    <tr>\n",
       "      <th>min</th>\n",
       "      <td>9.000000</td>\n",
       "    </tr>\n",
       "    <tr>\n",
       "      <th>25%</th>\n",
       "      <td>51.000000</td>\n",
       "    </tr>\n",
       "    <tr>\n",
       "      <th>50%</th>\n",
       "      <td>62.000000</td>\n",
       "    </tr>\n",
       "    <tr>\n",
       "      <th>75%</th>\n",
       "      <td>71.000000</td>\n",
       "    </tr>\n",
       "    <tr>\n",
       "      <th>max</th>\n",
       "      <td>96.000000</td>\n",
       "    </tr>\n",
       "  </tbody>\n",
       "</table>\n",
       "</div>"
      ],
      "text/plain": [
       "          penalties\n",
       "count  10848.000000\n",
       "mean      60.392054\n",
       "std       14.657931\n",
       "min        9.000000\n",
       "25%       51.000000\n",
       "50%       62.000000\n",
       "75%       71.000000\n",
       "max       96.000000"
      ]
     },
     "execution_count": 98,
     "metadata": {},
     "output_type": "execute_result"
    }
   ],
   "source": [
    "max_df_penalties.describe()"
   ]
  },
  {
   "cell_type": "code",
   "execution_count": 99,
   "metadata": {},
   "outputs": [
    {
     "data": {
      "text/html": [
       "<div>\n",
       "<style scoped>\n",
       "    .dataframe tbody tr th:only-of-type {\n",
       "        vertical-align: middle;\n",
       "    }\n",
       "\n",
       "    .dataframe tbody tr th {\n",
       "        vertical-align: top;\n",
       "    }\n",
       "\n",
       "    .dataframe thead th {\n",
       "        text-align: right;\n",
       "    }\n",
       "</style>\n",
       "<table border=\"1\" class=\"dataframe\">\n",
       "  <thead>\n",
       "    <tr style=\"text-align: right;\">\n",
       "      <th></th>\n",
       "      <th>player_name</th>\n",
       "      <th>penalties</th>\n",
       "      <th>date</th>\n",
       "    </tr>\n",
       "  </thead>\n",
       "  <tbody>\n",
       "    <tr>\n",
       "      <th>0</th>\n",
       "      <td>Rickie Lambert</td>\n",
       "      <td>96</td>\n",
       "      <td>2016-03-10</td>\n",
       "    </tr>\n",
       "    <tr>\n",
       "      <th>1</th>\n",
       "      <td>Andrea Pirlo</td>\n",
       "      <td>95</td>\n",
       "      <td>2009-02-22</td>\n",
       "    </tr>\n",
       "    <tr>\n",
       "      <th>2</th>\n",
       "      <td>Xavi Hernandez</td>\n",
       "      <td>95</td>\n",
       "      <td>2010-02-22</td>\n",
       "    </tr>\n",
       "    <tr>\n",
       "      <th>3</th>\n",
       "      <td>Mario Balotelli</td>\n",
       "      <td>95</td>\n",
       "      <td>2014-01-24</td>\n",
       "    </tr>\n",
       "    <tr>\n",
       "      <th>4</th>\n",
       "      <td>Paul Scholes</td>\n",
       "      <td>95</td>\n",
       "      <td>2010-02-22</td>\n",
       "    </tr>\n",
       "    <tr>\n",
       "      <th>...</th>\n",
       "      <td>...</td>\n",
       "      <td>...</td>\n",
       "      <td>...</td>\n",
       "    </tr>\n",
       "    <tr>\n",
       "      <th>10843</th>\n",
       "      <td>Igor Stefanovic</td>\n",
       "      <td>11</td>\n",
       "      <td>2016-01-14</td>\n",
       "    </tr>\n",
       "    <tr>\n",
       "      <th>10844</th>\n",
       "      <td>Giedrius Arlauskis</td>\n",
       "      <td>11</td>\n",
       "      <td>2016-02-04</td>\n",
       "    </tr>\n",
       "    <tr>\n",
       "      <th>10845</th>\n",
       "      <td>Jakub Szumski</td>\n",
       "      <td>11</td>\n",
       "      <td>2016-03-10</td>\n",
       "    </tr>\n",
       "    <tr>\n",
       "      <th>10846</th>\n",
       "      <td>Timothy van der Meulen</td>\n",
       "      <td>10</td>\n",
       "      <td>2011-02-22</td>\n",
       "    </tr>\n",
       "    <tr>\n",
       "      <th>10847</th>\n",
       "      <td>Jakub Divis</td>\n",
       "      <td>9</td>\n",
       "      <td>2011-02-22</td>\n",
       "    </tr>\n",
       "  </tbody>\n",
       "</table>\n",
       "<p>10848 rows × 3 columns</p>\n",
       "</div>"
      ],
      "text/plain": [
       "                  player_name  penalties        date\n",
       "0              Rickie Lambert         96  2016-03-10\n",
       "1                Andrea Pirlo         95  2009-02-22\n",
       "2              Xavi Hernandez         95  2010-02-22\n",
       "3             Mario Balotelli         95  2014-01-24\n",
       "4                Paul Scholes         95  2010-02-22\n",
       "...                       ...        ...         ...\n",
       "10843         Igor Stefanovic         11  2016-01-14\n",
       "10844      Giedrius Arlauskis         11  2016-02-04\n",
       "10845           Jakub Szumski         11  2016-03-10\n",
       "10846  Timothy van der Meulen         10  2011-02-22\n",
       "10847             Jakub Divis          9  2011-02-22\n",
       "\n",
       "[10848 rows x 3 columns]"
      ]
     },
     "execution_count": 99,
     "metadata": {},
     "output_type": "execute_result"
    }
   ],
   "source": [
    "max_df_penalties"
   ]
  },
  {
   "cell_type": "markdown",
   "metadata": {},
   "source": [
    "### Research Question 1  (Which teams improved the most over a period of time?)"
   ]
  },
  {
   "cell_type": "code",
   "execution_count": 106,
   "metadata": {},
   "outputs": [],
   "source": [
    "# Teams with the highest point difference\n",
    "pts_range_df = df_match.groupby(['country', 'league', 'team']\n",
    "                               ).agg({'points': np.ptp}).reset_index().rename(columns = {'points':'points_diff'})"
   ]
  },
  {
   "cell_type": "code",
   "execution_count": 107,
   "metadata": {},
   "outputs": [],
   "source": [
    "# Maximum range per league\n",
    "max_range_df = pts_range_df.groupby(['country', 'league']).max(numeric_only=True).reset_index()"
   ]
  },
  {
   "cell_type": "code",
   "execution_count": 108,
   "metadata": {},
   "outputs": [],
   "source": [
    "teams_max_range_df = pd.merge(max_range_df, pts_range_df, on=['country', 'league', 'points_diff']\n",
    "                             ).reindex(columns = ['country', 'league', 'team', 'points_diff'])"
   ]
  },
  {
   "cell_type": "code",
   "execution_count": 109,
   "metadata": {},
   "outputs": [],
   "source": [
    "teams_min_max_df = teams_max_range_df[['country', 'league', 'team']\n",
    "                                     ].merge(df_match, how='inner', on=['country', 'league', 'team']\n",
    "                                            ).groupby(['country', 'league', 'team'])['points'].agg(['min','max']\n",
    "                                                                                                  ).reset_index()"
   ]
  },
  {
   "cell_type": "code",
   "execution_count": 110,
   "metadata": {},
   "outputs": [],
   "source": [
    "teams_min_df = teams_min_max_df.merge(df_match, \n",
    "                                      how='inner', \n",
    "                                      left_on=['country', 'league', 'team', 'min'], \n",
    "                                      right_on=['country', 'league', 'team', 'points'])\n",
    "\n",
    "teams_max_df = teams_min_max_df.merge(df_match, \n",
    "                                      how='inner', \n",
    "                                      left_on=['country', 'league', 'team', 'max'], \n",
    "                                      right_on=['country', 'league', 'team', 'points'])\n"
   ]
  },
  {
   "cell_type": "code",
   "execution_count": 111,
   "metadata": {},
   "outputs": [],
   "source": [
    "teams_highest_df = pd.concat([teams_min_df, teams_max_df], ignore_index=True\n",
    "                            ).groupby(['country', 'league', 'team', 'season']\n",
    "                                     ).sum().reset_index().reindex(columns=df_match.columns)"
   ]
  },
  {
   "cell_type": "code",
   "execution_count": 112,
   "metadata": {},
   "outputs": [
    {
     "data": {
      "text/html": [
       "<div>\n",
       "<style scoped>\n",
       "    .dataframe tbody tr th:only-of-type {\n",
       "        vertical-align: middle;\n",
       "    }\n",
       "\n",
       "    .dataframe tbody tr th {\n",
       "        vertical-align: top;\n",
       "    }\n",
       "\n",
       "    .dataframe thead th {\n",
       "        text-align: right;\n",
       "    }\n",
       "</style>\n",
       "<table border=\"1\" class=\"dataframe\">\n",
       "  <thead>\n",
       "    <tr style=\"text-align: right;\">\n",
       "      <th></th>\n",
       "      <th>country</th>\n",
       "      <th>league</th>\n",
       "      <th>team</th>\n",
       "      <th>season</th>\n",
       "      <th>played</th>\n",
       "      <th>won</th>\n",
       "      <th>drawn</th>\n",
       "      <th>lost</th>\n",
       "      <th>goals_for</th>\n",
       "      <th>goals_against</th>\n",
       "      <th>goal_difference</th>\n",
       "      <th>points</th>\n",
       "    </tr>\n",
       "  </thead>\n",
       "  <tbody>\n",
       "    <tr>\n",
       "      <th>0</th>\n",
       "      <td>Belgium</td>\n",
       "      <td>Belgium Jupiler League</td>\n",
       "      <td>KAA Gent</td>\n",
       "      <td>2013/2014</td>\n",
       "      <td>6</td>\n",
       "      <td>3</td>\n",
       "      <td>1</td>\n",
       "      <td>2</td>\n",
       "      <td>11</td>\n",
       "      <td>6</td>\n",
       "      <td>5</td>\n",
       "      <td>10</td>\n",
       "    </tr>\n",
       "    <tr>\n",
       "      <th>1</th>\n",
       "      <td>Belgium</td>\n",
       "      <td>Belgium Jupiler League</td>\n",
       "      <td>KAA Gent</td>\n",
       "      <td>2015/2016</td>\n",
       "      <td>30</td>\n",
       "      <td>17</td>\n",
       "      <td>9</td>\n",
       "      <td>4</td>\n",
       "      <td>56</td>\n",
       "      <td>29</td>\n",
       "      <td>27</td>\n",
       "      <td>60</td>\n",
       "    </tr>\n",
       "    <tr>\n",
       "      <th>2</th>\n",
       "      <td>England</td>\n",
       "      <td>England Premier League</td>\n",
       "      <td>Aston Villa</td>\n",
       "      <td>2009/2010</td>\n",
       "      <td>38</td>\n",
       "      <td>17</td>\n",
       "      <td>13</td>\n",
       "      <td>8</td>\n",
       "      <td>52</td>\n",
       "      <td>39</td>\n",
       "      <td>13</td>\n",
       "      <td>64</td>\n",
       "    </tr>\n",
       "    <tr>\n",
       "      <th>3</th>\n",
       "      <td>England</td>\n",
       "      <td>England Premier League</td>\n",
       "      <td>Aston Villa</td>\n",
       "      <td>2015/2016</td>\n",
       "      <td>38</td>\n",
       "      <td>3</td>\n",
       "      <td>8</td>\n",
       "      <td>27</td>\n",
       "      <td>27</td>\n",
       "      <td>76</td>\n",
       "      <td>-49</td>\n",
       "      <td>17</td>\n",
       "    </tr>\n",
       "    <tr>\n",
       "      <th>4</th>\n",
       "      <td>France</td>\n",
       "      <td>France Ligue 1</td>\n",
       "      <td>Paris Saint-Germain</td>\n",
       "      <td>2009/2010</td>\n",
       "      <td>38</td>\n",
       "      <td>12</td>\n",
       "      <td>11</td>\n",
       "      <td>15</td>\n",
       "      <td>50</td>\n",
       "      <td>46</td>\n",
       "      <td>4</td>\n",
       "      <td>47</td>\n",
       "    </tr>\n",
       "  </tbody>\n",
       "</table>\n",
       "</div>"
      ],
      "text/plain": [
       "   country                  league                 team     season  played  \\\n",
       "0  Belgium  Belgium Jupiler League             KAA Gent  2013/2014       6   \n",
       "1  Belgium  Belgium Jupiler League             KAA Gent  2015/2016      30   \n",
       "2  England  England Premier League          Aston Villa  2009/2010      38   \n",
       "3  England  England Premier League          Aston Villa  2015/2016      38   \n",
       "4   France          France Ligue 1  Paris Saint-Germain  2009/2010      38   \n",
       "\n",
       "   won  drawn  lost  goals_for  goals_against  goal_difference  points  \n",
       "0    3      1     2         11              6                5      10  \n",
       "1   17      9     4         56             29               27      60  \n",
       "2   17     13     8         52             39               13      64  \n",
       "3    3      8    27         27             76              -49      17  \n",
       "4   12     11    15         50             46                4      47  "
      ]
     },
     "execution_count": 112,
     "metadata": {},
     "output_type": "execute_result"
    }
   ],
   "source": [
    "teams_highest_df.head()"
   ]
  },
  {
   "cell_type": "code",
   "execution_count": 113,
   "metadata": {},
   "outputs": [],
   "source": [
    "pd.options.mode.chained_assignment = None\n",
    "\n",
    "teams_prop_df = teams_highest_df[['country', 'league', 'team', 'season', 'played']]\n",
    "teams_prop_df['won_prop'] = teams_highest_df['won'].div(teams_highest_df['played'])\n",
    "teams_prop_df['drawn_prop'] = teams_highest_df['drawn'].div(teams_highest_df['played'])\n",
    "teams_prop_df['lost_prop'] = teams_highest_df['lost'].div(teams_highest_df['played'])\n",
    "teams_prop_df['points_prop'] = teams_highest_df['points'].div((teams_highest_df['played'].mul(3)))"
   ]
  },
  {
   "cell_type": "code",
   "execution_count": 114,
   "metadata": {},
   "outputs": [
    {
     "data": {
      "text/html": [
       "<div>\n",
       "<style scoped>\n",
       "    .dataframe tbody tr th:only-of-type {\n",
       "        vertical-align: middle;\n",
       "    }\n",
       "\n",
       "    .dataframe tbody tr th {\n",
       "        vertical-align: top;\n",
       "    }\n",
       "\n",
       "    .dataframe thead th {\n",
       "        text-align: right;\n",
       "    }\n",
       "</style>\n",
       "<table border=\"1\" class=\"dataframe\">\n",
       "  <thead>\n",
       "    <tr style=\"text-align: right;\">\n",
       "      <th></th>\n",
       "      <th>country</th>\n",
       "      <th>league</th>\n",
       "      <th>team</th>\n",
       "      <th>season</th>\n",
       "      <th>played</th>\n",
       "      <th>won_prop</th>\n",
       "      <th>drawn_prop</th>\n",
       "      <th>lost_prop</th>\n",
       "      <th>points_prop</th>\n",
       "    </tr>\n",
       "  </thead>\n",
       "  <tbody>\n",
       "    <tr>\n",
       "      <th>0</th>\n",
       "      <td>Belgium</td>\n",
       "      <td>Belgium Jupiler League</td>\n",
       "      <td>KAA Gent</td>\n",
       "      <td>2013/2014</td>\n",
       "      <td>6</td>\n",
       "      <td>0.500000</td>\n",
       "      <td>0.166667</td>\n",
       "      <td>0.333333</td>\n",
       "      <td>0.555556</td>\n",
       "    </tr>\n",
       "    <tr>\n",
       "      <th>1</th>\n",
       "      <td>Belgium</td>\n",
       "      <td>Belgium Jupiler League</td>\n",
       "      <td>KAA Gent</td>\n",
       "      <td>2015/2016</td>\n",
       "      <td>30</td>\n",
       "      <td>0.566667</td>\n",
       "      <td>0.300000</td>\n",
       "      <td>0.133333</td>\n",
       "      <td>0.666667</td>\n",
       "    </tr>\n",
       "    <tr>\n",
       "      <th>2</th>\n",
       "      <td>England</td>\n",
       "      <td>England Premier League</td>\n",
       "      <td>Aston Villa</td>\n",
       "      <td>2009/2010</td>\n",
       "      <td>38</td>\n",
       "      <td>0.447368</td>\n",
       "      <td>0.342105</td>\n",
       "      <td>0.210526</td>\n",
       "      <td>0.561404</td>\n",
       "    </tr>\n",
       "    <tr>\n",
       "      <th>3</th>\n",
       "      <td>England</td>\n",
       "      <td>England Premier League</td>\n",
       "      <td>Aston Villa</td>\n",
       "      <td>2015/2016</td>\n",
       "      <td>38</td>\n",
       "      <td>0.078947</td>\n",
       "      <td>0.210526</td>\n",
       "      <td>0.710526</td>\n",
       "      <td>0.149123</td>\n",
       "    </tr>\n",
       "    <tr>\n",
       "      <th>4</th>\n",
       "      <td>France</td>\n",
       "      <td>France Ligue 1</td>\n",
       "      <td>Paris Saint-Germain</td>\n",
       "      <td>2009/2010</td>\n",
       "      <td>38</td>\n",
       "      <td>0.315789</td>\n",
       "      <td>0.289474</td>\n",
       "      <td>0.394737</td>\n",
       "      <td>0.412281</td>\n",
       "    </tr>\n",
       "  </tbody>\n",
       "</table>\n",
       "</div>"
      ],
      "text/plain": [
       "   country                  league                 team     season  played  \\\n",
       "0  Belgium  Belgium Jupiler League             KAA Gent  2013/2014       6   \n",
       "1  Belgium  Belgium Jupiler League             KAA Gent  2015/2016      30   \n",
       "2  England  England Premier League          Aston Villa  2009/2010      38   \n",
       "3  England  England Premier League          Aston Villa  2015/2016      38   \n",
       "4   France          France Ligue 1  Paris Saint-Germain  2009/2010      38   \n",
       "\n",
       "   won_prop  drawn_prop  lost_prop  points_prop  \n",
       "0  0.500000    0.166667   0.333333     0.555556  \n",
       "1  0.566667    0.300000   0.133333     0.666667  \n",
       "2  0.447368    0.342105   0.210526     0.561404  \n",
       "3  0.078947    0.210526   0.710526     0.149123  \n",
       "4  0.315789    0.289474   0.394737     0.412281  "
      ]
     },
     "execution_count": 114,
     "metadata": {},
     "output_type": "execute_result"
    }
   ],
   "source": [
    "teams_prop_df.head()"
   ]
  },
  {
   "cell_type": "code",
   "execution_count": 115,
   "metadata": {},
   "outputs": [],
   "source": [
    "def team_performance_plot(team_index):\n",
    "    \"\"\"Plot the team performance\"\"\"\n",
    "    \n",
    "    # Gather only data that'll be plotted\n",
    "    values_df = teams_prop_df[['won_prop', 'drawn_prop', 'lost_prop', 'points_prop']]\n",
    "    \n",
    "    # Create a list of the bar labels\n",
    "    bar_labels = ['WON%', 'DRAWN%', 'LOST%', 'POINTS%']\n",
    "    \n",
    "    # Create leagend labels\n",
    "    legend_df = teams_prop_df['country'].str.cat([teams_prop_df['team'], \n",
    "                                                  teams_prop_df['season'], \n",
    "                                                  teams_prop_df['played'].astype('string')], sep=\" | \")\n",
    "    \n",
    "    ind = np.arange(4)  # the x locations for the groups\n",
    "    width = 0.35       # the width of the bars\n",
    "    \n",
    "    # figure size\n",
    "    plt.figure(figsize=(11,7))\n",
    "    \n",
    "    # plot bars\n",
    "    white_bars = plt.bar(ind, values_df.iloc[team_index*2 - 2], width, color='cornsilk', alpha=.7, \n",
    "                         label=\"{} Matches\".format(legend_df.iloc[team_index*2 - 2]))\n",
    "    green_bars = plt.bar(ind + width, values_df.iloc[team_index*2 - 1], width, color='seagreen', alpha=.7, \n",
    "                         label=\"{} Matches\".format(legend_df.iloc[team_index*2 - 1]))\n",
    "\n",
    "    # title and labels\n",
    "    plt.ylabel('Achievement Proportion', fontdict={\"fontsize\":15})\n",
    "    plt.xlabel('Team Stats', fontdict={\"fontsize\":15})\n",
    "    plt.title('Proportion by Total Played Matches and Team Performance', fontdict={\"fontsize\":20}, x=0.5, y=1.01)\n",
    "    locations = ind + width / 2  # xtick locations\n",
    "    labels = bar_labels # xtick labels\n",
    "    plt.xticks(locations, labels)\n",
    "    \n",
    "    # legend\n",
    "    plt.legend(fancybox=True, framealpha=0.7, edgecolor=\"black\", bbox_to_anchor=(1,1), loc=\"upper left\");"
   ]
  },
  {
   "cell_type": "code",
   "execution_count": 116,
   "metadata": {},
   "outputs": [
    {
     "data": {
      "image/png": "[encoded data removed]",
      "text/plain": [
       "<Figure size 792x504 with 1 Axes>"
      ]
     },
     "metadata": {},
     "output_type": "display_data"
    }
   ],
   "source": [
    "team_performance_plot(1) #Gent Belgium"
   ]
  },
  {
   "cell_type": "code",
   "execution_count": 117,
   "metadata": {},
   "outputs": [
    {
     "data": {
      "image/png": "[encoded data removed]",
      "text/plain": [
       "<Figure size 792x504 with 1 Axes>"
      ]
     },
     "metadata": {},
     "output_type": "display_data"
    }
   ],
   "source": [
    "team_performance_plot(2) #Aston villa England"
   ]
  },
  {
   "cell_type": "code",
   "execution_count": 118,
   "metadata": {},
   "outputs": [
    {
     "data": {
      "image/png": "[encoded data removed]",
      "text/plain": [
       "<Figure size 792x504 with 1 Axes>"
      ]
     },
     "metadata": {},
     "output_type": "display_data"
    }
   ],
   "source": [
    "team_performance_plot(3) #PSG France"
   ]
  },
  {
   "cell_type": "code",
   "execution_count": 119,
   "metadata": {},
   "outputs": [
    {
     "data": {
      "image/png": "[encoded data removed]",
      "text/plain": [
       "<Figure size 792x504 with 1 Axes>"
      ]
     },
     "metadata": {},
     "output_type": "display_data"
    }
   ],
   "source": [
    "team_performance_plot(4) # Hertha Berlin Germany"
   ]
  },
  {
   "cell_type": "code",
   "execution_count": 120,
   "metadata": {},
   "outputs": [
    {
     "data": {
      "image/png": "[encoded data removed]",
      "text/plain": [
       "<Figure size 792x504 with 1 Axes>"
      ]
     },
     "metadata": {},
     "output_type": "display_data"
    }
   ],
   "source": [
    "team_performance_plot(5) # Juventus Italy"
   ]
  },
  {
   "cell_type": "code",
   "execution_count": 121,
   "metadata": {},
   "outputs": [
    {
     "data": {
      "image/png": "[encoded data removed]",
      "text/plain": [
       "<Figure size 792x504 with 1 Axes>"
      ]
     },
     "metadata": {},
     "output_type": "display_data"
    }
   ],
   "source": [
    "team_performance_plot(6) # Twnete Netherlands"
   ]
  },
  {
   "cell_type": "code",
   "execution_count": 122,
   "metadata": {},
   "outputs": [
    {
     "data": {
      "image/png": "[encoded data removed]",
      "text/plain": [
       "<Figure size 792x504 with 1 Axes>"
      ]
     },
     "metadata": {},
     "output_type": "display_data"
    }
   ],
   "source": [
    "team_performance_plot(7) # Polonia Bytom Poland"
   ]
  },
  {
   "cell_type": "code",
   "execution_count": 123,
   "metadata": {},
   "outputs": [
    {
     "data": {
      "image/png": "[encoded data removed]",
      "text/plain": [
       "<Figure size 792x504 with 1 Axes>"
      ]
     },
     "metadata": {},
     "output_type": "display_data"
    }
   ],
   "source": [
    "team_performance_plot(8) # Sporting CP Portugal"
   ]
  },
  {
   "cell_type": "code",
   "execution_count": 124,
   "metadata": {},
   "outputs": [
    {
     "data": {
      "image/png": "[encoded data removed]",
      "text/plain": [
       "<Figure size 792x504 with 1 Axes>"
      ]
     },
     "metadata": {},
     "output_type": "display_data"
    }
   ],
   "source": [
    "team_performance_plot(9) # Aberdeen Scotland"
   ]
  },
  {
   "cell_type": "code",
   "execution_count": 125,
   "metadata": {},
   "outputs": [
    {
     "data": {
      "image/png": "[encoded data removed]",
      "text/plain": [
       "<Figure size 792x504 with 1 Axes>"
      ]
     },
     "metadata": {},
     "output_type": "display_data"
    }
   ],
   "source": [
    "team_performance_plot(10) # Atletico Madrid Spain"
   ]
  },
  {
   "cell_type": "code",
   "execution_count": 126,
   "metadata": {},
   "outputs": [
    {
     "data": {
      "image/png": "[encoded data removed]",
      "text/plain": [
       "<Figure size 792x504 with 1 Axes>"
      ]
     },
     "metadata": {},
     "output_type": "display_data"
    }
   ],
   "source": [
    "team_performance_plot(11) # FC Zurich Switzerland"
   ]
  },
  {
   "cell_type": "markdown",
   "metadata": {},
   "source": [
    "### Research Question 2  (Which player had the most Penalties?)\n",
    "\n",
    "We worked on the Penalties table earlier;"
   ]
  },
  {
   "cell_type": "code",
   "execution_count": 127,
   "metadata": {},
   "outputs": [
    {
     "data": {
      "text/html": [
       "<div>\n",
       "<style scoped>\n",
       "    .dataframe tbody tr th:only-of-type {\n",
       "        vertical-align: middle;\n",
       "    }\n",
       "\n",
       "    .dataframe tbody tr th {\n",
       "        vertical-align: top;\n",
       "    }\n",
       "\n",
       "    .dataframe thead th {\n",
       "        text-align: right;\n",
       "    }\n",
       "</style>\n",
       "<table border=\"1\" class=\"dataframe\">\n",
       "  <thead>\n",
       "    <tr style=\"text-align: right;\">\n",
       "      <th></th>\n",
       "      <th>player_name</th>\n",
       "      <th>penalties</th>\n",
       "      <th>date</th>\n",
       "    </tr>\n",
       "  </thead>\n",
       "  <tbody>\n",
       "    <tr>\n",
       "      <th>0</th>\n",
       "      <td>Rickie Lambert</td>\n",
       "      <td>96</td>\n",
       "      <td>2016-03-10</td>\n",
       "    </tr>\n",
       "    <tr>\n",
       "      <th>1</th>\n",
       "      <td>Andrea Pirlo</td>\n",
       "      <td>95</td>\n",
       "      <td>2009-02-22</td>\n",
       "    </tr>\n",
       "    <tr>\n",
       "      <th>2</th>\n",
       "      <td>Xavi Hernandez</td>\n",
       "      <td>95</td>\n",
       "      <td>2010-02-22</td>\n",
       "    </tr>\n",
       "    <tr>\n",
       "      <th>3</th>\n",
       "      <td>Mario Balotelli</td>\n",
       "      <td>95</td>\n",
       "      <td>2014-01-24</td>\n",
       "    </tr>\n",
       "    <tr>\n",
       "      <th>4</th>\n",
       "      <td>Paul Scholes</td>\n",
       "      <td>95</td>\n",
       "      <td>2010-02-22</td>\n",
       "    </tr>\n",
       "    <tr>\n",
       "      <th>...</th>\n",
       "      <td>...</td>\n",
       "      <td>...</td>\n",
       "      <td>...</td>\n",
       "    </tr>\n",
       "    <tr>\n",
       "      <th>10843</th>\n",
       "      <td>Igor Stefanovic</td>\n",
       "      <td>11</td>\n",
       "      <td>2016-01-14</td>\n",
       "    </tr>\n",
       "    <tr>\n",
       "      <th>10844</th>\n",
       "      <td>Giedrius Arlauskis</td>\n",
       "      <td>11</td>\n",
       "      <td>2016-02-04</td>\n",
       "    </tr>\n",
       "    <tr>\n",
       "      <th>10845</th>\n",
       "      <td>Jakub Szumski</td>\n",
       "      <td>11</td>\n",
       "      <td>2016-03-10</td>\n",
       "    </tr>\n",
       "    <tr>\n",
       "      <th>10846</th>\n",
       "      <td>Timothy van der Meulen</td>\n",
       "      <td>10</td>\n",
       "      <td>2011-02-22</td>\n",
       "    </tr>\n",
       "    <tr>\n",
       "      <th>10847</th>\n",
       "      <td>Jakub Divis</td>\n",
       "      <td>9</td>\n",
       "      <td>2011-02-22</td>\n",
       "    </tr>\n",
       "  </tbody>\n",
       "</table>\n",
       "<p>10848 rows × 3 columns</p>\n",
       "</div>"
      ],
      "text/plain": [
       "                  player_name  penalties        date\n",
       "0              Rickie Lambert         96  2016-03-10\n",
       "1                Andrea Pirlo         95  2009-02-22\n",
       "2              Xavi Hernandez         95  2010-02-22\n",
       "3             Mario Balotelli         95  2014-01-24\n",
       "4                Paul Scholes         95  2010-02-22\n",
       "...                       ...        ...         ...\n",
       "10843         Igor Stefanovic         11  2016-01-14\n",
       "10844      Giedrius Arlauskis         11  2016-02-04\n",
       "10845           Jakub Szumski         11  2016-03-10\n",
       "10846  Timothy van der Meulen         10  2011-02-22\n",
       "10847             Jakub Divis          9  2011-02-22\n",
       "\n",
       "[10848 rows x 3 columns]"
      ]
     },
     "execution_count": 127,
     "metadata": {},
     "output_type": "execute_result"
    }
   ],
   "source": [
    "# Load the table\n",
    "max_df_penalties"
   ]
  },
  {
   "cell_type": "code",
   "execution_count": 128,
   "metadata": {},
   "outputs": [
    {
     "data": {
      "image/png": "[encoded data removed]",
      "text/plain": [
       "<Figure size 936x648 with 1 Axes>"
      ]
     },
     "metadata": {},
     "output_type": "display_data"
    }
   ],
   "source": [
    "# Penalties frequency distribution using Histogram\n",
    "max_df_penalties.hist('penalties', bins=range(21, 98), figsize=(13,9))\n",
    "plt.xlabel('Penalty Score', fontsize=18)\n",
    "plt.ylabel('Number of Players', fontsize=18)\n",
    "plt.title('Penalties Distribution', fontsize=18);"
   ]
  },
  {
   "cell_type": "markdown",
   "metadata": {},
   "source": [
    "From the Histogram, we can deduce that the most common penalty score is 68 penalties, almost 350 players had 68 penalties, also only 1 player had a penalty score of 96"
   ]
  },
  {
   "cell_type": "code",
   "execution_count": 129,
   "metadata": {},
   "outputs": [
    {
     "data": {
      "text/plain": [
       "68    343\n",
       "67    312\n",
       "62    309\n",
       "64    306\n",
       "65    301\n",
       "     ... \n",
       "12      2\n",
       "10      1\n",
       "17      1\n",
       "9       1\n",
       "96      1\n",
       "Name: penalties, Length: 88, dtype: int64"
      ]
     },
     "execution_count": 129,
     "metadata": {},
     "output_type": "execute_result"
    }
   ],
   "source": [
    "max_df_penalties.penalties.value_counts()#.sort_values()"
   ]
  },
  {
   "cell_type": "code",
   "execution_count": 130,
   "metadata": {},
   "outputs": [
    {
     "data": {
      "text/plain": [
       "96     1\n",
       "95     4\n",
       "94     7\n",
       "93    10\n",
       "92    20\n",
       "Name: penalties, dtype: int64"
      ]
     },
     "execution_count": 130,
     "metadata": {},
     "output_type": "execute_result"
    }
   ],
   "source": [
    "max_df_penalties.penalties.value_counts().sort_index(ascending=False)[:5]#.sum()"
   ]
  },
  {
   "cell_type": "code",
   "execution_count": 131,
   "metadata": {},
   "outputs": [
    {
     "data": {
      "text/plain": [
       "Text(0.5, 1.0, 'Penalty Score')"
      ]
     },
     "execution_count": 131,
     "metadata": {},
     "output_type": "execute_result"
    },
    {
     "data": {
      "image/png": "[encoded data removed]",
      "text/plain": [
       "<Figure size 720x360 with 1 Axes>"
      ]
     },
     "metadata": {},
     "output_type": "display_data"
    }
   ],
   "source": [
    "fig = plt.figure(figsize = (10 , 5))\n",
    "penalties_plt = max_df_penalties.sort_values('penalties', axis = 0, ascending = False).head()\n",
    "\n",
    "plt.bar(penalties_plt['player_name'], penalties_plt['penalties'], color = 'Darkgreen', width = 0.4)\n",
    "plt.xlabel('Player_name')\n",
    "plt.ylabel('Penalties')\n",
    "plt.title('Penalty Score')"
   ]
  },
  {
   "cell_type": "markdown",
   "metadata": {},
   "source": [
    "The bar graph shows the top 5 players with high penalty score with Rickie Lambert being No 1 having scored 96 penalties"
   ]
  },
  {
   "cell_type": "code",
   "execution_count": 132,
   "metadata": {},
   "outputs": [
    {
     "data": {
      "text/plain": [
       "player_name    Rickie Lambert\n",
       "penalties                  96\n",
       "date               2016-03-10\n",
       "Name: 0, dtype: object"
      ]
     },
     "execution_count": 132,
     "metadata": {},
     "output_type": "execute_result"
    }
   ],
   "source": [
    "# Player with the most penalties\n",
    "max_df_penalties.loc[max_df_penalties['penalties'].idxmax()]"
   ]
  },
  {
   "cell_type": "markdown",
   "metadata": {},
   "source": [
    "<a id='conclusions'></a>\n",
    "## Conclusions\n",
    "\n",
    ">  1. It is observed from the analysis done that teams like Paris Saint Germain, Juventus, Aberdeen, Atletico Madrid, Sporting CP and KAA Gent improved their performance over seasons.\n",
    "\n",
    "> 2. Hertha Berlin, Polonia Bytom, Aston Villa, FC Twente and FC Zurich had Poor performances over seasons and their levels fell.\n",
    "\n",
    "> 3. There's just one player with the highest penalty score; Rickie Lambert 96. and the most common penalty score is 68 penalties with 343 players having that score.\n",
    "\n",
    "> 4. Using Domain Knowledge, we can deduce from this analysis that the top 5 players with high penalty score play their football in England and Spain.\n",
    "\n",
    "> 5. The distribution of penalty score is a normal distribution.\n",
    "\n",
    "\n",
    "\n",
    "## Limitations : There are a couple of Limitations with our data:\n",
    "\n",
    "> 1. There are null values in the Team, Player_Attributes and Team_Attributes tables and the author of the dataset stated that there are missing players and missing player attributes because he was not able to source the data from FIFA.\n",
    "\n",
    "> 2. The Data is not exactly peculiar with which team a player belongs to.\n",
    "\n"
   ]
  },
  {
   "cell_type": "markdown",
   "metadata": {
    "collapsed": true
   },
   "source": [
    "## Reference Links\n",
    "\n",
    "1. Stackoverflow - https://stackoverflow.com/questions/41256648/select-multiple-ranges-of-columns-in-pandas-dataframe\n",
    "\n",
    "2. Github http://Github.com"
   ]
  },
  {
   "cell_type": "code",
   "execution_count": null,
   "metadata": {},
   "outputs": [],
   "source": []
  }
 ],
 "metadata": {
  "kernelspec": {
   "display_name": "Python 3",
   "language": "python",
   "name": "python3"
  },
  "language_info": {
   "codemirror_mode": {
    "name": "ipython",
    "version": 3
   },
   "file_extension": ".py",
   "mimetype": "text/x-python",
   "name": "python",
   "nbconvert_exporter": "python",
   "pygments_lexer": "ipython3",
   "version": "3.8.5"
  }
 },
 "nbformat": 4,
 "nbformat_minor": 2
}
